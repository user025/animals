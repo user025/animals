{
 "cells": [
  {
   "cell_type": "code",
   "execution_count": 85,
   "metadata": {
    "collapsed": true
   },
   "outputs": [],
   "source": [
    "import pandas\n",
    "import datetime\n",
    "import numpy as np\n",
    "from sklearn.naive_bayes import MultinomialNB\n",
    "from sklearn.preprocessing import MultiLabelBinarizer\n",
    "from sklearn.preprocessing import LabelEncoder\n",
    "from sklearn.cross_validation import KFold\n",
    "from sklearn.metrics import *\n",
    "from sklearn.grid_search import GridSearchCV\n",
    "from collections import OrderedDict"
   ]
  },
  {
   "cell_type": "code",
   "execution_count": 8,
   "metadata": {
    "collapsed": true
   },
   "outputs": [],
   "source": [
    "def parse_age(x):\n",
    "    time, resolution = x.split(' ')\n",
    "    time = int(time)\n",
    "    if resolution.startswith('day'):\n",
    "        return int(time)\n",
    "    elif resolution.startswith('week'):\n",
    "        return int(time * 7)\n",
    "    elif resolution.startswith('month'):\n",
    "        return int(time * 30)\n",
    "    elif resolution.startswith('year'):\n",
    "        return int(time * 365)\n",
    "    else:\n",
    "        print(x)"
   ]
  },
  {
   "cell_type": "code",
   "execution_count": 59,
   "metadata": {
    "collapsed": true
   },
   "outputs": [],
   "source": [
    "class FeatureEncoder(object):\n",
    "    def __init__(self):\n",
    "        super(FeatureEncoder, self).__init__()\n",
    "        self.feature_dict = OrderedDict()\n",
    "    \n",
    "    def fit(self, raw_data):\n",
    "        self.feature_dict['AnimalType'] = lambda x: le.fit_transform(x.AnimalType)\n",
    "        self.feature_dict['month'] = lambda x: \\\n",
    "        [datetime.datetime.strptime(xi, \"%Y-%m-%d %H:%M:%S\").date().month / 12 \\\n",
    "         for xi in x.DateTime]\n",
    "        self.feature_dict['season'] = lambda x: \\\n",
    "        [datetime.datetime.strptime(xi, \"%Y-%m-%d %H:%M:%S\").date().month // 4 / 12 \\\n",
    "         for xi in x.DateTime]\n",
    "        \n",
    "        self.feature_dict['10_day'] = lambda x: \\\n",
    "        [datetime.datetime.strptime(xi, \"%Y-%m-%d %H:%M:%S\").date().day // 10 / 3\\\n",
    "         for xi in x.DateTime]\n",
    "        \n",
    "        self.feature_dict['week'] = lambda x: \\\n",
    "        [datetime.datetime.strptime(xi, \"%Y-%m-%d %H:%M:%S\").date().day // 7 / 5 \\\n",
    "         for xi in x.DateTime]\n",
    "        self.feature_dict['Age_weeks'] = lambda x:[parse_age(i) // 7 / 54 for i in x.AgeuponOutcome]\n",
    "        mlb.fit([[xi] for xi in raw_data['AgeuponOutcome']])\n",
    "        for i in mlb.classes_:\n",
    "            self.feature_dict['AgeuponOutcome__' + i] = lambda x,i:[int(j == i) for j in x.AgeuponOutcome]\n",
    "        mlb.fit([[xi] for xi in raw_data['SexuponOutcome']])\n",
    "        for i in mlb.classes_:\n",
    "            self.feature_dict['SexuponOutcome__' + i] = lambda x,i:[int(j == i) for j in x.SexuponOutcome]\n",
    "        \n",
    "        breed_count = raw_data.Breed.value_counts()\n",
    "        mlb.fit([[xi] for xi in raw_data['Breed']])\n",
    "        for i in mlb.classes_:\n",
    "            if breed_count.loc[i] > 10:\n",
    "                self.feature_dict['Breed__' + i] = lambda x,i:[int(j == i) for j in x.Breed]\n",
    "        del breed_count\n",
    "    \n",
    "        color_count = raw_data.Color.value_counts()\n",
    "        mlb.fit([[xi] for xi in raw_data['Color']])\n",
    "        for i in mlb.classes_:\n",
    "            if color_count.loc[i] > 10:\n",
    "                self.feature_dict['Color__' + i] = lambda x,i:[int(j == i) for j in x.Color]\n",
    "        del color_count\n",
    "   \n",
    "        self.feature_dict['is_breed_mix'] = lambda x: [int(i.find('Mix') > 0) for i in x.Breed]\n",
    "        self.feature_dict['is_color_mix'] = lambda x: [int(i.find('/') > 0) for i in x.Color]\n",
    "        \n",
    "    def transform(self, raw_data):\n",
    "        transed_data = pandas.DataFrame()\n",
    "        for key, func in self.feature_dict.items():\n",
    "            if key.find('__')>0:\n",
    "                transed_data[key] = func(raw_data, key.split('__')[1])\n",
    "            else:\n",
    "                transed_data[key] = func(raw_data)\n",
    "        return transed_data\n",
    "        \n",
    "    def fit_transform(self, raw_data):\n",
    "        self.fit(raw_data)\n",
    "        return self.transform(raw_data)"
   ]
  },
  {
   "cell_type": "code",
   "execution_count": 60,
   "metadata": {
    "collapsed": true
   },
   "outputs": [],
   "source": [
    "mlb = MultiLabelBinarizer()\n",
    "le = LabelEncoder()"
   ]
  },
  {
   "cell_type": "code",
   "execution_count": 61,
   "metadata": {
    "collapsed": true
   },
   "outputs": [],
   "source": [
    "data = pandas.read_csv('train.csv')\n",
    "data['SexuponOutcome'].fillna(inplace = True, value = data['SexuponOutcome'].describe().top)\n",
    "data['AgeuponOutcome'].fillna(inplace = True, value = data['AgeuponOutcome'].describe().top)"
   ]
  },
  {
   "cell_type": "code",
   "execution_count": 62,
   "metadata": {
    "collapsed": true
   },
   "outputs": [],
   "source": [
    "feature_encoder = FeatureEncoder()"
   ]
  },
  {
   "cell_type": "code",
   "execution_count": 63,
   "metadata": {
    "collapsed": false
   },
   "outputs": [],
   "source": [
    "train_data = feature_encoder.fit_transform(data)"
   ]
  },
  {
   "cell_type": "code",
   "execution_count": 64,
   "metadata": {
    "collapsed": true
   },
   "outputs": [],
   "source": [
    "train_data['label'] = le.fit_transform(data['OutcomeType']).astype(int)"
   ]
  },
  {
   "cell_type": "code",
   "execution_count": 65,
   "metadata": {
    "collapsed": false
   },
   "outputs": [
    {
     "name": "stdout",
     "output_type": "stream",
     "text": [
      "3.0\n"
     ]
    }
   ],
   "source": [
    "for i in train_data.iterrows():\n",
    "    print(i[1][-1])\n",
    "    break"
   ]
  },
  {
   "cell_type": "code",
   "execution_count": 86,
   "metadata": {
    "collapsed": false
   },
   "outputs": [],
   "source": [
    "def gen_output(raw_data, file_name, target):\n",
    "    file = open(file_name, 'w')\n",
    "    field_num = 0\n",
    "    fields = {}\n",
    "    feature_num = 0\n",
    "    col = raw_data.columns\n",
    "    \n",
    "    for i in col:\n",
    "        if i.find('__') > 0:\n",
    "            key = i.split('__')[0]\n",
    "        else:\n",
    "            key = i\n",
    "            \n",
    "        if key in fields:\n",
    "            continue\n",
    "        else:\n",
    "            field_num += 1\n",
    "            fields[key] = field_num\n",
    "            \n",
    "            \n",
    "    for each_row in raw_data.iterrows():\n",
    "        sample = []\n",
    "        if (each_row[1][-1] == target):\n",
    "            label = 1\n",
    "        else:\n",
    "            label = 0\n",
    "            \n",
    "        if target<0:\n",
    "            sample.append(str(label))\n",
    "        \n",
    "        for i,p in zip(col, range(len(col))):\n",
    "            val = each_row[1][p]\n",
    "            if (i == 'label'):\n",
    "                continue\n",
    "            else:\n",
    "                if (i.find('__')>0):\n",
    "                    fe_num = fields[i.split('__')[0]]\n",
    "                else:\n",
    "                    fe_num = fields[i]\n",
    "    \n",
    "                sample.append('{}:{}:{}'.format(fe_num, p+1, val))\n",
    "        file.write(' '.join(sample) + '\\n')"
   ]
  },
  {
   "cell_type": "code",
   "execution_count": 87,
   "metadata": {
    "collapsed": false
   },
   "outputs": [],
   "source": [
    "test_set = pandas.read_csv('test.csv')\n",
    "test_set['SexuponOutcome'].fillna(inplace = True, value = data['SexuponOutcome'].describe().top)\n",
    "test_set['AgeuponOutcome'].fillna(inplace = True, value = data['AgeuponOutcome'].describe().top)\n",
    "test_data = feature_encoder.transform(test_set)"
   ]
  },
  {
   "cell_type": "code",
   "execution_count": null,
   "metadata": {
    "collapsed": false
   },
   "outputs": [],
   "source": [
    "for i in range(5):\n",
    "    gen_output(train_data, '{}_train_ffm'.format(i), i)"
   ]
  },
  {
   "cell_type": "code",
   "execution_count": 88,
   "metadata": {
    "collapsed": true
   },
   "outputs": [],
   "source": [
    "gen_output(test_data, 'test_ffm', -1)"
   ]
  },
  {
   "cell_type": "code",
   "execution_count": null,
   "metadata": {
    "collapsed": true
   },
   "outputs": [],
   "source": []
  }
 ],
 "metadata": {
  "kernelspec": {
   "display_name": "Python 3",
   "language": "python",
   "name": "python3"
  },
  "language_info": {
   "codemirror_mode": {
    "name": "ipython",
    "version": 3
   },
   "file_extension": ".py",
   "mimetype": "text/x-python",
   "name": "python",
   "nbconvert_exporter": "python",
   "pygments_lexer": "ipython3",
   "version": "3.5.1"
  }
 },
 "nbformat": 4,
 "nbformat_minor": 0
}
