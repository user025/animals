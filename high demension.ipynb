{
 "cells": [
  {
   "cell_type": "code",
   "execution_count": 19,
   "metadata": {
    "collapsed": true
   },
   "outputs": [],
   "source": [
    "import pandas\n",
    "import datetime\n",
    "import numpy as np\n",
    "import xgboost as xgb\n",
    "from sklearn.naive_bayes import MultinomialNB\n",
    "from sklearn.preprocessing import MultiLabelBinarizer\n",
    "from sklearn.preprocessing import LabelEncoder\n",
    "from sklearn.cross_validation import KFold\n",
    "from sklearn.metrics import *\n",
    "from sklearn.grid_search import GridSearchCV"
   ]
  },
  {
   "cell_type": "code",
   "execution_count": 2,
   "metadata": {
    "collapsed": false
   },
   "outputs": [],
   "source": [
    "data = pandas.read_csv('train.csv')"
   ]
  },
  {
   "cell_type": "code",
   "execution_count": 3,
   "metadata": {
    "collapsed": false
   },
   "outputs": [],
   "source": [
    "mlb = MultiLabelBinarizer()\n",
    "le = LabelEncoder()"
   ]
  },
  {
   "cell_type": "code",
   "execution_count": 4,
   "metadata": {
    "collapsed": false
   },
   "outputs": [],
   "source": [
    "breed_count = data.Breed.value_counts()\n",
    "color_count = data.Color.value_counts()"
   ]
  },
  {
   "cell_type": "code",
   "execution_count": 5,
   "metadata": {
    "collapsed": true
   },
   "outputs": [],
   "source": [
    "def parse_age(x):\n",
    "    time, resolution = x.split(' ')\n",
    "    time = int(time)\n",
    "    if resolution.startswith('day'):\n",
    "        return int(time)\n",
    "    elif resolution.startswith('week'):\n",
    "        return int(time * 7)\n",
    "    elif resolution.startswith('month'):\n",
    "        return int(time * 30)\n",
    "    elif resolution.startswith('year'):\n",
    "        return int(time * 365)\n",
    "    else:\n",
    "        print(x)"
   ]
  },
  {
   "cell_type": "code",
   "execution_count": 6,
   "metadata": {
    "collapsed": false
   },
   "outputs": [
    {
     "name": "stdout",
     "output_type": "stream",
     "text": [
      "AnimalID                        A671945\n",
      "Name                            Hambone\n",
      "DateTime            2014-02-12 18:22:00\n",
      "OutcomeType             Return_to_owner\n",
      "OutcomeSubtype                      NaN\n",
      "AnimalType                          Dog\n",
      "SexuponOutcome            Neutered Male\n",
      "AgeuponOutcome                   1 year\n",
      "Breed             Shetland Sheepdog Mix\n",
      "Color                       Brown/White\n",
      "Name: 0, dtype: object\n"
     ]
    }
   ],
   "source": [
    "for i in data.index:\n",
    "    print(data.loc[i])\n",
    "    break"
   ]
  },
  {
   "cell_type": "code",
   "execution_count": 7,
   "metadata": {
    "collapsed": true
   },
   "outputs": [],
   "source": [
    "try:\n",
    "    del train_data\n",
    "except:\n",
    "    pass\n",
    "train_data = pandas.DataFrame()\n",
    "\n",
    "\n",
    "def gen_feature(raw_data, transed_data):\n",
    "    if 'OutcomeType' in raw_data:\n",
    "        transed_data['OutcomeType'] = le.fit_transform(raw_data['OutcomeType'])\n",
    "    transed_data['AnimalType'] = le.fit_transform(raw_data['AnimalType'])\n",
    "    #众数填充\n",
    "    raw_data['SexuponOutcome'].fillna(inplace = True, value = data['SexuponOutcome'].describe().top)\n",
    "    raw_data['AgeuponOutcome'].fillna(inplace = True, value = data['AgeuponOutcome'].describe().top)\n",
    "    date_list = [datetime.datetime.strptime(x, \"%Y-%m-%d %H:%M:%S\") for x in raw_data['DateTime']]\n",
    "    transed_data['month'] = [x.date().month for x in date_list]\n",
    "    transed_data['season'] = [int(x.date().month / 4) for x in date_list]\n",
    "    transed_data['10_day'] = [int(x.date().day / 10) for x in date_list]\n",
    "    transed_data['week'] = [x.date().isoweekday() for x in date_list]\n",
    "    transed_data['Age_days'] = data.AgeuponOutcome.apply(parse_age) \n",
    "    transed_data['Age_weeks'] = transed_data['Age_days'] // int(7)\n",
    "    transed_data['Age_months'] = transed_data['Age_days'] // int(30)\n",
    "    age_cat = mlb.fit_transform([[x] for x in raw_data['AgeuponOutcome']])\n",
    "    for i, val in zip(mlb.classes_, age_cat.T):\n",
    "        transed_data['AgeuponOutcome_' + i.replace(' ','_')] = val\n",
    "    del age_cat\n",
    "    \n",
    "    sex_cat = mlb.fit_transform([[x] for x in raw_data['SexuponOutcome']])\n",
    "    for i, val in zip(mlb.classes_, sex_cat.T):\n",
    "        transed_data['SexuponOutcome_' + i.replace(' ','_')] = val\n",
    "    del sex_cat\n",
    "   \n",
    "    breed_cat = mlb.fit_transform([[x] for x in raw_data['Breed']])\n",
    "    for i, val in zip(mlb.classes_, breed_cat.T):\n",
    "        if breed_count.loc[i] > 30:\n",
    "            transed_data['Breed_' + i.replace(' ', '_')] = val\n",
    "    del breed_cat\n",
    "    \n",
    "    color_cat = mlb.fit_transform([[x] for x in raw_data['Color']])\n",
    "    for i, val in zip(mlb.classes_, color_cat.T):\n",
    "        if color_count.loc[i] > 30:\n",
    "            transed_data['Color_' + i.replace(' ','_')] = val\n",
    "    del color_cat\n",
    "   \n",
    "    transed_data['is_breed_mix'] = data.Breed.apply(lambda x: int(x.find('Mix') > 0))\n",
    "    transed_data['is_color_mix'] = data.Color.apply(lambda x: int(x.find('/') > 0))\n"
   ]
  },
  {
   "cell_type": "code",
   "execution_count": 8,
   "metadata": {
    "collapsed": true
   },
   "outputs": [],
   "source": [
    "import pdb\n",
    "def convert_feature(raw_data, transed_data, referer):\n",
    "    le.fit(raw_data['AnimalType'])\n",
    "    transed_data['AnimalType'] = le.transform(raw_data['AnimalType'])\n",
    "    #众数填充\n",
    "    raw_data['SexuponOutcome'].fillna(inplace = True, value = data['SexuponOutcome'].describe().top)\n",
    "    raw_data['AgeuponOutcome'].fillna(inplace = True, value = data['AgeuponOutcome'].describe().top)\n",
    "    date_list = [datetime.datetime.strptime(x, \"%Y-%m-%d %H:%M:%S\") for x in raw_data['DateTime']]\n",
    "    transed_data['Age_days'] = raw_data.AgeuponOutcome.apply(parse_age) \n",
    "    transed_data['Age_weeks'] = transed_data['Age_days'] // int(7)\n",
    "    transed_data['Age_months'] = transed_data['Age_days'] // int(30)\n",
    "    transed_data['month'] = [x.date().month for x in date_list]\n",
    "    transed_data['season'] = [int(x.date().month / 4) for x in date_list]\n",
    "    transed_data['10_day'] = [int(x.date().day / 10) for x in date_list]\n",
    "    transed_data['week'] = [x.date().isoweekday() for x in date_list]\n",
    "    mlb.fit([[x] for x in data['AgeuponOutcome']])\n",
    "    num = len(raw_data)\n",
    "    for i in mlb.classes_:\n",
    "        key = 'AgeuponOutcome_' + i.replace(' ', '_')\n",
    "        if key not in referer:\n",
    "            continue\n",
    "        ids = raw_data.AgeuponOutcome == i\n",
    "        transed_data[key] = [0] * num\n",
    "        transed_data[key][ids] = 1\n",
    "    \n",
    "    mlb.fit([[x] for x in data['SexuponOutcome']])\n",
    "    for i in mlb.classes_:\n",
    "        key = 'SexuponOutcome_' + i.replace(' ', '_')\n",
    "        if key not in referer:\n",
    "            continue\n",
    "        ids = raw_data.SexuponOutcome == i\n",
    "        transed_data[key] = [0] * num\n",
    "        transed_data[key][ids] = 1\n",
    "    \n",
    "    \n",
    "    mlb.fit([[x] for x in data['Breed']])\n",
    "    for i in mlb.classes_:\n",
    "        key = 'Breed_' + i.replace(' ', '_')\n",
    "        if key not in referer:\n",
    "            continue\n",
    "        ids = raw_data.Breed == i\n",
    "        transed_data[key] = [0] * num\n",
    "        transed_data[key][ids] = 1\n",
    "    \n",
    "    mlb.fit([[x] for x in data['Color']])\n",
    "    for i in mlb.classes_:\n",
    "        key = 'Color_' + i.replace(' ', '_')\n",
    "        if key not in referer:\n",
    "            continue\n",
    "        ids = raw_data.Color == i\n",
    "        transed_data[key] = [0] * num\n",
    "        transed_data[key][ids] = 1\n",
    "    \n",
    "    for i in referer:\n",
    "        if i not in transed_data and i != \"OutcomeType\":\n",
    "            transed_data[i] = np.zeros((num, 1)).astype(int)\n",
    "    transed_data['is_breed_mix'] = data.Breed.apply(lambda x: int(x.find('Mix') > 0))\n",
    "    transed_data['is_color_mix'] = data.Color.apply(lambda x: int(x.find('/') > 0))"
   ]
  },
  {
   "cell_type": "code",
   "execution_count": 9,
   "metadata": {
    "collapsed": false
   },
   "outputs": [],
   "source": [
    "high_deg_thre=20\n",
    "import pdb\n",
    "def high_deg(raw_data, transed_data): \n",
    "    combiner={}\n",
    "    for i, j in zip(raw_data.Breed, transed_data.Age_weeks):\n",
    "        key = i + '$$' + str(j)\n",
    "        if key in combiner:\n",
    "            combiner[key] += 1\n",
    "        else:\n",
    "            combiner[key] = 1\n",
    "        \n",
    "    combiner = sorted(combiner.items(), key=lambda x:x[1], reverse=True)\n",
    "    key_list = []\n",
    "    for it, value in combiner:\n",
    "        if (value > high_deg_thre):\n",
    "            key_list.append(it)\n",
    "    del combiner\n",
    "     \n",
    "    for i in key_list:\n",
    "        v1, v2 = i.split('$$')\n",
    "        v2 = int(v2)\n",
    "        transed_data[i] = list(map(lambda x,y:int(x==v1 and y==v2), raw_data.Breed, transed_data.Age_weeks))"
   ]
  },
  {
   "cell_type": "code",
   "execution_count": 10,
   "metadata": {
    "collapsed": false
   },
   "outputs": [],
   "source": [
    "gen_feature(data, train_data)"
   ]
  },
  {
   "cell_type": "code",
   "execution_count": 11,
   "metadata": {
    "collapsed": false
   },
   "outputs": [],
   "source": [
    "high_deg(data, train_data)"
   ]
  },
  {
   "cell_type": "code",
   "execution_count": 12,
   "metadata": {
    "collapsed": false
   },
   "outputs": [],
   "source": [
    "mnb = MultinomialNB()"
   ]
  },
  {
   "cell_type": "code",
   "execution_count": 13,
   "metadata": {
    "collapsed": false
   },
   "outputs": [],
   "source": [
    "data_to_predict = pandas.read_csv('test.csv')"
   ]
  },
  {
   "cell_type": "code",
   "execution_count": 14,
   "metadata": {
    "collapsed": false
   },
   "outputs": [],
   "source": [
    "data_test = pandas.DataFrame()\n",
    "kf = KFold(len(train_data), 10, shuffle=True)\n",
    "convert_feature(data_to_predict, data_test, train_data.columns)"
   ]
  },
  {
   "cell_type": "code",
   "execution_count": 15,
   "metadata": {
    "collapsed": false
   },
   "outputs": [],
   "source": [
    "def gen_output(res, file_name):\n",
    "    le = LabelEncoder()\n",
    "    le.fit(data['OutcomeType'])\n",
    "    res_data = pandas.DataFrame()\n",
    "    res_data['ID'] = data_to_predict.ID\n",
    "    for i in range(0, 5):\n",
    "        res_data[le.classes_[i]] = res[:,i]\n",
    "    res_data.to_csv(file_name, index = False)"
   ]
  },
  {
   "cell_type": "code",
   "execution_count": 16,
   "metadata": {
    "collapsed": false
   },
   "outputs": [
    {
     "data": {
      "text/plain": [
       "\"\\nfrom sklearn.naive_bayes import GaussianNB\\ngnb = BernoulliNB()\\nbi_train_data = train_data.copy()\\ndel bi_train_data['month']\\ndel bi_train_data['season']\\ndel bi_train_data['10_day']\\ndel bi_train_data['week']\\n\\ntmp = mlb.fit_transform([[x] for x in train_data['month']])\\nfor i, val in zip(mlb.classes_, tmp.T):\\n    bi_train_data['month_' + str(i)] = val\\n\\ntmp = mlb.fit_transform([[x] for x in train_data['season']])\\nfor i, val in zip(mlb.classes_, tmp.T):\\n    bi_train_data['season_' + str(i)] = val\\n    \\ntmp = mlb.fit_transform([[x] for x in train_data['10_day']])\\nfor i, val in zip(mlb.classes_, tmp.T):\\n    bi_train_data['10_day_' + str(i)] = val\\n    \\ntmp = mlb.fit_transform([[x] for x in train_data['week']])\\nfor i, val in zip(mlb.classes_, tmp.T):\\n    bi_train_data['week_' + str(i)] = val\\ndel tmp\\n\\nfor train_idx, test_idx in kf:\\n    X_train = bi_train_data.iloc[train_idx]\\n    X_test = bi_train_data.iloc[test_idx]\\n    gnb.fit(X_train.iloc[:,1:], X_train.OutcomeType)\\n    w = gnb.predict_proba(X_test.iloc[:,1:])\\n    print(log_loss(X_test.OutcomeType, w))\\n\""
      ]
     },
     "execution_count": 16,
     "metadata": {},
     "output_type": "execute_result"
    }
   ],
   "source": [
    "\"\"\"\n",
    "from sklearn.naive_bayes import GaussianNB\n",
    "gnb = BernoulliNB()\n",
    "bi_train_data = train_data.copy()\n",
    "del bi_train_data['month']\n",
    "del bi_train_data['season']\n",
    "del bi_train_data['10_day']\n",
    "del bi_train_data['week']\n",
    "\n",
    "tmp = mlb.fit_transform([[x] for x in train_data['month']])\n",
    "for i, val in zip(mlb.classes_, tmp.T):\n",
    "    bi_train_data['month_' + str(i)] = val\n",
    "\n",
    "tmp = mlb.fit_transform([[x] for x in train_data['season']])\n",
    "for i, val in zip(mlb.classes_, tmp.T):\n",
    "    bi_train_data['season_' + str(i)] = val\n",
    "    \n",
    "tmp = mlb.fit_transform([[x] for x in train_data['10_day']])\n",
    "for i, val in zip(mlb.classes_, tmp.T):\n",
    "    bi_train_data['10_day_' + str(i)] = val\n",
    "    \n",
    "tmp = mlb.fit_transform([[x] for x in train_data['week']])\n",
    "for i, val in zip(mlb.classes_, tmp.T):\n",
    "    bi_train_data['week_' + str(i)] = val\n",
    "del tmp\n",
    "\n",
    "for train_idx, test_idx in kf:\n",
    "    X_train = bi_train_data.iloc[train_idx]\n",
    "    X_test = bi_train_data.iloc[test_idx]\n",
    "    gnb.fit(X_train.iloc[:,1:], X_train.OutcomeType)\n",
    "    w = gnb.predict_proba(X_test.iloc[:,1:])\n",
    "    print(log_loss(X_test.OutcomeType, w))\n",
    "\"\"\""
   ]
  },
  {
   "cell_type": "code",
   "execution_count": 23,
   "metadata": {
    "collapsed": false
   },
   "outputs": [],
   "source": [
    "predicts = None\n",
    "n_jobs = 3\n",
    "def model_fit(alg, dtrain, predictors, cv_folds=5, early_stopping_rounds=50):\n",
    "    xgb_param = alg.get_xgb_params()\n",
    "    xgb_param['num_class'] = 5\n",
    "    #Fit the algorithm on the data\n",
    "    kf = KFold(len(dtrain), cv_folds, shuffle=True)\n",
    "    for train_idx, test_idx in kf:\n",
    "        X_train = dtrain.iloc[train_idx]\n",
    "        X_test = dtrain.iloc[test_idx]\n",
    "        alg.fit(X_train.iloc[:,1:],\n",
    "                X_train.OutcomeType, \n",
    "                eval_metric='mlogloss',\n",
    "               verbose=True)\n",
    "        try:\n",
    "            print(alg.evals_result())\n",
    "        except:\n",
    "            pass\n",
    "        #Predict training set:\n",
    "        dtrain_predictions = alg.predict(X_test.iloc[:,1:])\n",
    "        global predicts\n",
    "        predicts = alg.predict_proba(X_test.iloc[:,1:])\n",
    "        #Print model report:\n",
    "        print(\"Model Report\")\n",
    "        print(\"Accuracy : %.4g\" % accuracy_score(X_test.OutcomeType, dtrain_predictions))\n",
    "        print(\"LogLoss : %.4g\" % log_loss(X_test.OutcomeType, predicts))\n",
    "        break\n",
    "                            "
   ]
  },
  {
   "cell_type": "code",
   "execution_count": 41,
   "metadata": {
    "collapsed": false
   },
   "outputs": [],
   "source": [
    "import xgboost as xgb\n",
    "evals_res = {}\n",
    "base_model = xgb.XGBClassifier(\n",
    " learning_rate =0.1,\n",
    " n_estimators=1000,\n",
    " max_depth=5,\n",
    " min_child_weight=1,\n",
    " gamma=0,\n",
    " subsample=0.8,\n",
    " colsample_bytree=0.8,\n",
    " objective= 'multi:softprob',\n",
    " nthread=6,\n",
    " scale_pos_weight=1,\n",
    " seed=27)\n"
   ]
  },
  {
   "cell_type": "code",
   "execution_count": 42,
   "metadata": {
    "collapsed": false
   },
   "outputs": [
    {
     "name": "stdout",
     "output_type": "stream",
     "text": [
      "Model Report\n",
      "Accuracy : 0.6339\n",
      "LogLoss : 0.8979\n"
     ]
    }
   ],
   "source": [
    "model_fit(base_model, train_data, None)"
   ]
  },
  {
   "cell_type": "code",
   "execution_count": 43,
   "metadata": {
    "collapsed": false
   },
   "outputs": [
    {
     "data": {
      "text/plain": [
       "([mean: -0.86359, std: 0.00677, params: {'min_child_weight': 1, 'max_depth': 3},\n",
       "  mean: -0.86418, std: 0.00679, params: {'min_child_weight': 3, 'max_depth': 3},\n",
       "  mean: -0.86422, std: 0.00667, params: {'min_child_weight': 5, 'max_depth': 3},\n",
       "  mean: -0.85787, std: 0.00617, params: {'min_child_weight': 1, 'max_depth': 5},\n",
       "  mean: -0.85789, std: 0.00631, params: {'min_child_weight': 3, 'max_depth': 5},\n",
       "  mean: -0.85861, std: 0.00670, params: {'min_child_weight': 5, 'max_depth': 5},\n",
       "  mean: -0.86006, std: 0.00555, params: {'min_child_weight': 1, 'max_depth': 7},\n",
       "  mean: -0.85998, std: 0.00582, params: {'min_child_weight': 3, 'max_depth': 7},\n",
       "  mean: -0.85947, std: 0.00621, params: {'min_child_weight': 5, 'max_depth': 7},\n",
       "  mean: -0.86370, std: 0.00668, params: {'min_child_weight': 1, 'max_depth': 9},\n",
       "  mean: -0.86291, std: 0.00615, params: {'min_child_weight': 3, 'max_depth': 9},\n",
       "  mean: -0.86101, std: 0.00592, params: {'min_child_weight': 5, 'max_depth': 9}],\n",
       " {'max_depth': 5, 'min_child_weight': 1},\n",
       " -0.85787098134490736)"
      ]
     },
     "execution_count": 43,
     "metadata": {},
     "output_type": "execute_result"
    }
   ],
   "source": [
    "param_test1 = {\n",
    "    'max_depth' : list(range(3, 10, 2)),\n",
    "    'min_child_weight' : list(range(1, 6, 2))\n",
    "}\n",
    "\n",
    "gsearch1 = GridSearchCV(estimator = xgb.XGBClassifier( \n",
    "        learning_rate =0.1, \n",
    "        n_estimators=140, \n",
    "        gamma=0,\n",
    "        subsample=0.8, \n",
    "        colsample_bytree=0.8,\n",
    "        objective= 'multi:softprob', \n",
    "        nthread=4, \n",
    "        scale_pos_weight=1, \n",
    "        seed=27), \n",
    "        param_grid = param_test1, \n",
    "        scoring='log_loss',\n",
    "        n_jobs=3,\n",
    "        iid=False,\n",
    "        cv=5)\n",
    "gsearch1.fit(train_data.iloc[:,1:],train_data.OutcomeType)\n",
    "gsearch1.grid_scores_, gsearch1.best_params_, gsearch1.best_score_"
   ]
  },
  {
   "cell_type": "code",
   "execution_count": 45,
   "metadata": {
    "collapsed": false
   },
   "outputs": [
    {
     "data": {
      "text/plain": [
       "([mean: -0.85917, std: 0.00642, params: {'min_child_weight': 1, 'max_depth': 4},\n",
       "  mean: -0.85902, std: 0.00658, params: {'min_child_weight': 2, 'max_depth': 4},\n",
       "  mean: -0.85918, std: 0.00670, params: {'min_child_weight': 3, 'max_depth': 4},\n",
       "  mean: -0.85787, std: 0.00617, params: {'min_child_weight': 1, 'max_depth': 5},\n",
       "  mean: -0.85794, std: 0.00612, params: {'min_child_weight': 2, 'max_depth': 5},\n",
       "  mean: -0.85789, std: 0.00631, params: {'min_child_weight': 3, 'max_depth': 5},\n",
       "  mean: -0.85821, std: 0.00579, params: {'min_child_weight': 1, 'max_depth': 6},\n",
       "  mean: -0.85880, std: 0.00596, params: {'min_child_weight': 2, 'max_depth': 6},\n",
       "  mean: -0.85854, std: 0.00625, params: {'min_child_weight': 3, 'max_depth': 6}],\n",
       " {'max_depth': 5, 'min_child_weight': 1},\n",
       " -0.85787098134490736)"
      ]
     },
     "execution_count": 45,
     "metadata": {},
     "output_type": "execute_result"
    }
   ],
   "source": [
    "param_test1 = {\n",
    "    'max_depth' : [4,5,6],\n",
    "    'min_child_weight' : [1,2,3]\n",
    "}\n",
    "\n",
    "gsearch1 = GridSearchCV(estimator = xgb.XGBClassifier( \n",
    "        learning_rate =0.1, \n",
    "        n_estimators=140,  \n",
    "        gamma=0,\n",
    "        subsample=0.8, \n",
    "        colsample_bytree=0.8,\n",
    "        objective= 'multi:softprob', \n",
    "        nthread=4, \n",
    "        scale_pos_weight=1, \n",
    "        seed=27), \n",
    "        param_grid = param_test1, \n",
    "        scoring='log_loss',\n",
    "        n_jobs=n_jobs,\n",
    "        iid=False,\n",
    "        cv=5)\n",
    "gsearch1.fit(train_data.iloc[:,1:],train_data.OutcomeType)\n",
    "gsearch1.grid_scores_, gsearch1.best_params_, gsearch1.best_score_"
   ]
  },
  {
   "cell_type": "code",
   "execution_count": 21,
   "metadata": {
    "collapsed": false
   },
   "outputs": [
    {
     "data": {
      "text/plain": [
       "([mean: -0.85806, std: 0.00580, params: {'gamma': 0.1},\n",
       "  mean: -0.85844, std: 0.00575, params: {'gamma': 0.2},\n",
       "  mean: -0.85828, std: 0.00585, params: {'gamma': 0.3},\n",
       "  mean: -0.85821, std: 0.00584, params: {'gamma': 0.4},\n",
       "  mean: -0.85834, std: 0.00570, params: {'gamma': 0.5},\n",
       "  mean: -0.85826, std: 0.00585, params: {'gamma': 0.6},\n",
       "  mean: -0.85808, std: 0.00575, params: {'gamma': 0.7},\n",
       "  mean: -0.85828, std: 0.00580, params: {'gamma': 0.8},\n",
       "  mean: -0.85808, std: 0.00610, params: {'gamma': 0.9}],\n",
       " {'gamma': 0.1},\n",
       " -0.85805963432154253)"
      ]
     },
     "execution_count": 21,
     "metadata": {},
     "output_type": "execute_result"
    }
   ],
   "source": [
    "param_test3 = {\n",
    " 'gamma':[i/10.0 for i in range(1,10)]\n",
    "}\n",
    "gsearch3 = GridSearchCV(estimator = xgb.XGBClassifier( \n",
    "        learning_rate =0.1, \n",
    "        n_estimators=140, \n",
    "        max_depth=5,\n",
    "        min_child_weight=1, \n",
    "        subsample=0.8, \n",
    "        colsample_bytree=0.8,\n",
    "        objective= 'multi:softprob', \n",
    "        nthread=5, \n",
    "        scale_pos_weight=1,\n",
    "        seed=27), \n",
    "        param_grid = param_test3, \n",
    "        scoring='log_loss',\n",
    "        n_jobs=3,\n",
    "        iid=False, \n",
    "        cv=5)\n",
    "gsearch3.fit(train_data.iloc[:,1:],train_data.OutcomeType)\n",
    "gsearch3.grid_scores_, gsearch3.best_params_, gsearch3.best_score_"
   ]
  },
  {
   "cell_type": "code",
   "execution_count": 24,
   "metadata": {
    "collapsed": false
   },
   "outputs": [
    {
     "data": {
      "text/plain": [
       "([mean: -0.85846, std: 0.00597, params: {'subsample': 0.8},\n",
       "  mean: -0.85782, std: 0.00600, params: {'subsample': 0.81},\n",
       "  mean: -0.85824, std: 0.00578, params: {'subsample': 0.82},\n",
       "  mean: -0.85827, std: 0.00555, params: {'subsample': 0.83},\n",
       "  mean: -0.85768, std: 0.00572, params: {'subsample': 0.84}],\n",
       " {'subsample': 0.84},\n",
       " -0.85768184353624477)"
      ]
     },
     "execution_count": 24,
     "metadata": {},
     "output_type": "execute_result"
    }
   ],
   "source": [
    "param_test3 = {\n",
    " 'subsample':[i/100.0 for i in range(84, 90, 1)],\n",
    "}\n",
    "\n",
    "gsearch3 = GridSearchCV(estimator = xgb.XGBClassifier( \n",
    "        learning_rate =0.1, \n",
    "        n_estimators=140, \n",
    "        max_depth=6,\n",
    "        min_child_weight=3, \n",
    "        gamma=0.1, \n",
    "        objective= 'multi:softprob', \n",
    "        nthread=4, \n",
    "        colsample_bytree=0.8,\n",
    "        scale_pos_weight=1,\n",
    "        seed=27), \n",
    "        param_grid = param_test3, \n",
    "        scoring='log_loss',\n",
    "        n_jobs=n_jobs,\n",
    "        iid=False, \n",
    "        cv=5)\n",
    "gsearch3.fit(train_data.iloc[:,1:],train_data.OutcomeType)\n",
    "gsearch3.grid_scores_, gsearch3.best_params_, gsearch3.best_score_"
   ]
  },
  {
   "cell_type": "code",
   "execution_count": 22,
   "metadata": {
    "collapsed": false
   },
   "outputs": [],
   "source": [
    "import xgboost as xgb\n",
    "modified_model = xgb.XGBClassifier( \n",
    "        learning_rate =0.1, \n",
    "        n_estimators=140, \n",
    "        max_depth=5,\n",
    "        min_child_weight=1, \n",
    "        gamma=1.3, \n",
    "        objective= 'multi:softprob', \n",
    "        nthread=4, \n",
    "        colsample_bytree=0.8,\n",
    "        subsample = 0.82,\n",
    "        scale_pos_weight=1,\n",
    "        seed=27)"
   ]
  },
  {
   "cell_type": "code",
   "execution_count": 23,
   "metadata": {
    "collapsed": false
   },
   "outputs": [
    {
     "name": "stdout",
     "output_type": "stream",
     "text": [
      "Model Report\n",
      "Accuracy : 0.651\n",
      "LogLoss : 0.8541\n"
     ]
    }
   ],
   "source": [
    "model_fit(modified_model, train_data, None)"
   ]
  },
  {
   "cell_type": "code",
   "execution_count": 32,
   "metadata": {
    "collapsed": false
   },
   "outputs": [],
   "source": [
    "data_data = pandas.DataFrame()\n",
    "for i in train_data.columns:\n",
    "    if i == 'OutcomeType':\n",
    "        continue\n",
    "    data_data[i] = data_test[i]\n",
    "res = modified_model.predict_proba(data_data)\n",
    "res_data = pandas.DataFrame()\n",
    "le.fit_transform(data['OutcomeType'])\n",
    "res_data['ID'] = data_to_predict.ID\n",
    "for i in range(0,5):\n",
    "    res_data[le.classes_[i]] = res[:,i]\n",
    "res_data.to_csv('modified_xgboost.csv', index=False)"
   ]
  },
  {
   "cell_type": "code",
   "execution_count": 27,
   "metadata": {
    "collapsed": false
   },
   "outputs": [
    {
     "data": {
      "text/plain": [
       "Index(['OutcomeType', 'AnimalType', 'month', 'season', '10_day', 'week',\n",
       "       'Age_days', 'AgeuponOutcome_0_years', 'AgeuponOutcome_1_day',\n",
       "       'AgeuponOutcome_1_month',\n",
       "       ...\n",
       "       'Color_White/Cream', 'Color_White/Gray', 'Color_White/Orange_Tabby',\n",
       "       'Color_White/Red', 'Color_White/Tan', 'Color_White/Tricolor',\n",
       "       'Color_Yellow', 'Color_Yellow/White', 'is_breed_mix', 'is_color_mix'],\n",
       "      dtype='object', length=212)"
      ]
     },
     "execution_count": 27,
     "metadata": {},
     "output_type": "execute_result"
    }
   ],
   "source": [
    "train_data.columns"
   ]
  },
  {
   "cell_type": "code",
   "execution_count": 28,
   "metadata": {
    "collapsed": false
   },
   "outputs": [
    {
     "data": {
      "text/plain": [
       "Index(['AnimalType', 'Age_days', 'month', 'season', '10_day', 'week',\n",
       "       'AgeuponOutcome_0_years', 'AgeuponOutcome_1_day',\n",
       "       'AgeuponOutcome_1_month', 'AgeuponOutcome_1_week',\n",
       "       ...\n",
       "       'Color_White/Cream', 'Color_White/Gray', 'Color_White/Orange_Tabby',\n",
       "       'Color_White/Red', 'Color_White/Tan', 'Color_White/Tricolor',\n",
       "       'Color_Yellow', 'Color_Yellow/White', 'is_breed_mix', 'is_color_mix'],\n",
       "      dtype='object', length=211)"
      ]
     },
     "execution_count": 28,
     "metadata": {},
     "output_type": "execute_result"
    }
   ],
   "source": [
    "data_test.columns"
   ]
  },
  {
   "cell_type": "code",
   "execution_count": null,
   "metadata": {
    "collapsed": true
   },
   "outputs": [],
   "source": []
  }
 ],
 "metadata": {
  "kernelspec": {
   "display_name": "Python 3",
   "language": "python",
   "name": "python3"
  },
  "language_info": {
   "codemirror_mode": {
    "name": "ipython",
    "version": 3
   },
   "file_extension": ".py",
   "mimetype": "text/x-python",
   "name": "python",
   "nbconvert_exporter": "python",
   "pygments_lexer": "ipython3",
   "version": "3.5.1"
  }
 },
 "nbformat": 4,
 "nbformat_minor": 0
}
