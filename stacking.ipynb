{
 "cells": [
  {
   "cell_type": "code",
   "execution_count": 1,
   "metadata": {
    "collapsed": true
   },
   "outputs": [],
   "source": [
    "import pandas\n",
    "import datetime\n",
    "import numpy as np\n",
    "import xgboost as xgb\n",
    "import os\n",
    "from sklearn.naive_bayes import MultinomialNB\n",
    "from sklearn.preprocessing import MultiLabelBinarizer\n",
    "from sklearn.preprocessing import LabelEncoder\n",
    "from sklearn.cross_validation import KFold\n",
    "from sklearn.metrics import *\n",
    "from sklearn.grid_search import GridSearchCV\n",
    "from collections import OrderedDict"
   ]
  },
  {
   "cell_type": "code",
   "execution_count": 2,
   "metadata": {
    "collapsed": false
   },
   "outputs": [],
   "source": [
    "import sys\n",
    "sys.path.append('/home/huang_anli/kaggle_tools/')"
   ]
  },
  {
   "cell_type": "code",
   "execution_count": 3,
   "metadata": {
    "collapsed": true
   },
   "outputs": [],
   "source": [
    "import load_data"
   ]
  },
  {
   "cell_type": "code",
   "execution_count": 4,
   "metadata": {
    "collapsed": false
   },
   "outputs": [],
   "source": [
    "load_data.mk_nfold('train.csv')"
   ]
  },
  {
   "cell_type": "code",
   "execution_count": 160,
   "metadata": {
    "collapsed": false
   },
   "outputs": [
    {
     "data": {
      "text/plain": [
       "<module 'load_data' from '/home/huang_anli/kaggle_tools/load_data.py'>"
      ]
     },
     "execution_count": 160,
     "metadata": {},
     "output_type": "execute_result"
    }
   ],
   "source": [
    "train_file = 'folds/0_train.csv'\n",
    "test_file = 'folds/0_test.csv'\n",
    "import imp\n",
    "imp.reload(load_data)"
   ]
  },
  {
   "cell_type": "code",
   "execution_count": 6,
   "metadata": {
    "collapsed": false
   },
   "outputs": [],
   "source": [
    "fill_dict = {}\n",
    "train_data = load_data.init_data(train_file, 'top', fill_dict)\n",
    "test_data = load_data.init_data(test_file, '', fill_dict)"
   ]
  },
  {
   "cell_type": "code",
   "execution_count": 7,
   "metadata": {
    "collapsed": false
   },
   "outputs": [
    {
     "data": {
      "text/plain": [
       "Series([], Name: SexuponOutcome, dtype: object)"
      ]
     },
     "execution_count": 7,
     "metadata": {},
     "output_type": "execute_result"
    }
   ],
   "source": [
    "test_data.SexuponOutcome[test_data.SexuponOutcome.isnull()]"
   ]
  },
  {
   "cell_type": "code",
   "execution_count": 8,
   "metadata": {
    "collapsed": false
   },
   "outputs": [
    {
     "data": {
      "text/plain": [
       "Series([], Name: AgeuponOutcome, dtype: object)"
      ]
     },
     "execution_count": 8,
     "metadata": {},
     "output_type": "execute_result"
    }
   ],
   "source": [
    "test_data.AgeuponOutcome[test_data.AgeuponOutcome.isnull()]"
   ]
  },
  {
   "cell_type": "code",
   "execution_count": 9,
   "metadata": {
    "collapsed": true
   },
   "outputs": [],
   "source": [
    "def parse_age(x):\n",
    "    time, resolution = x.split(' ')\n",
    "    time = int(time)\n",
    "    if resolution.startswith('day'):\n",
    "        return int(time)\n",
    "    elif resolution.startswith('week'):\n",
    "        return int(time * 7)\n",
    "    elif resolution.startswith('month'):\n",
    "        return int(time * 30)\n",
    "    elif resolution.startswith('year'):\n",
    "        return int(time * 365)\n",
    "    else:\n",
    "        pass"
   ]
  },
  {
   "cell_type": "code",
   "execution_count": 10,
   "metadata": {
    "collapsed": true
   },
   "outputs": [],
   "source": [
    "from feature_engineer import FeatureEncoder, one_hot"
   ]
  },
  {
   "cell_type": "code",
   "execution_count": 11,
   "metadata": {
    "collapsed": false
   },
   "outputs": [],
   "source": [
    "import pdb\n",
    "class MyFeatureEncoder(FeatureEncoder):\n",
    "    def __init__(self):\n",
    "        super(FeatureEncoder, self).__init__()\n",
    "        self.feature_dict = OrderedDict()\n",
    "    \n",
    "    def fit(self, raw_data):\n",
    "        le = LabelEncoder()\n",
    "        self.feature_dict['AnimalType'] = lambda x: le.fit_transform(x.AnimalType)\n",
    "        self.feature_dict['month'] = lambda x: \\\n",
    "        [datetime.datetime.strptime(xi, \"%Y-%m-%d %H:%M:%S\").date().month \\\n",
    "         for xi in x.DateTime]\n",
    "        self.feature_dict['season'] = lambda x: \\\n",
    "        [datetime.datetime.strptime(xi, \"%Y-%m-%d %H:%M:%S\").date().month // 3 \\\n",
    "         for xi in x.DateTime]\n",
    "        \n",
    "        self.feature_dict['10_day'] = lambda x: \\\n",
    "        [datetime.datetime.strptime(xi, \"%Y-%m-%d %H:%M:%S\").date().day // 10  \\\n",
    "         for xi in x.DateTime]\n",
    "        self.feature_dict['week'] = lambda x: \\\n",
    "        [datetime.datetime.strptime(xi, \"%Y-%m-%d %H:%M:%S\").date().weekday()  \\\n",
    "         for xi in x.DateTime]\n",
    "        self.feature_dict['hour'] = lambda x: \\\n",
    "        [datetime.datetime.strptime(xi, \"%Y-%m-%d %H:%M:%S\").time().hour \\\n",
    "         for xi in x.DateTime]\n",
    "        self.feature_dict['minute'] = lambda x: \\\n",
    "        [datetime.datetime.strptime(xi, \"%Y-%m-%d %H:%M:%S\").time().minute \\\n",
    "         for xi in x.DateTime]\n",
    "        self.feature_dict['Age_weeks'] = lambda x:[parse_age(i) // 7 for i in x.AgeuponOutcome]\n",
    "        \n",
    "        one_hot(self.feature_dict, 'AgeuponOutcome', raw_data)\n",
    "        one_hot(self.feature_dict, 'SexuponOutcome', raw_data)\n",
    "        one_hot(self.feature_dict, 'Breed', raw_data)\n",
    "        one_hot(self.feature_dict, 'Color', raw_data)\n",
    "   \n",
    "        self.feature_dict['is_breed_mix'] = lambda x: [int(i.find('Mix') > 0) for i in x.Breed]\n",
    "        self.feature_dict['is_color_mix'] = lambda x: [int(i.find('/') > 0) for i in x.Color]\n",
    "        \n",
    "    def transform(self, raw_data):\n",
    "        transed_data = pandas.DataFrame()\n",
    "        for key, func in self.feature_dict.items():\n",
    "            if key.find('__')>0:\n",
    "                transed_data[key] = func(raw_data[key.split('__')[0]], key.split('__')[1])\n",
    "            else:\n",
    "                transed_data[key] = func(raw_data)\n",
    "        return transed_data\n",
    "        \n",
    "    def fit_transform(self, raw_data):\n",
    "        self.fit(raw_data)\n",
    "        return self.transform(raw_data)\n",
    "    "
   ]
  },
  {
   "cell_type": "code",
   "execution_count": 12,
   "metadata": {
    "collapsed": false
   },
   "outputs": [],
   "source": [
    "feature_encoder = MyFeatureEncoder()"
   ]
  },
  {
   "cell_type": "code",
   "execution_count": 13,
   "metadata": {
    "collapsed": false
   },
   "outputs": [],
   "source": [
    "train_feature = feature_encoder.fit_transform(train_data)"
   ]
  },
  {
   "cell_type": "code",
   "execution_count": 16,
   "metadata": {
    "collapsed": false
   },
   "outputs": [],
   "source": [
    "le = LabelEncoder()\n",
    "train_feature['OutcomeType'] = le.fit_transform(train_data['OutcomeType'])"
   ]
  },
  {
   "cell_type": "code",
   "execution_count": 17,
   "metadata": {
    "collapsed": false
   },
   "outputs": [],
   "source": [
    "test_feature = feature_encoder.transform(test_data)\n",
    "test_feature['OutcomeType'] = le.fit_transform(test_data['OutcomeType'])"
   ]
  },
  {
   "cell_type": "code",
   "execution_count": 18,
   "metadata": {
    "collapsed": false
   },
   "outputs": [
    {
     "data": {
      "text/plain": [
       "<module 'base_models' from '/home/huang_anli/kaggle_tools/base_models.py'>"
      ]
     },
     "execution_count": 18,
     "metadata": {},
     "output_type": "execute_result"
    }
   ],
   "source": [
    "import base_models\n",
    "imp.reload(base_models)"
   ]
  },
  {
   "cell_type": "code",
   "execution_count": 20,
   "metadata": {
    "collapsed": false
   },
   "outputs": [
    {
     "data": {
      "text/plain": [
       "0.86551272681179248"
      ]
     },
     "execution_count": 20,
     "metadata": {},
     "output_type": "execute_result"
    }
   ],
   "source": [
    "from sklearn.metrics import log_loss\n",
    "log_loss(test_feature.OutcomeType, lr_clf.predict_proba(test_feature.iloc[:,:-1]))"
   ]
  },
  {
   "cell_type": "code",
   "execution_count": null,
   "metadata": {
    "collapsed": false
   },
   "outputs": [],
   "source": [
    "xg_param = {\n",
    "    'scoring' : 'log_loss',\n",
    "    'objective' : 'multi:softprob'\n",
    "}\n",
    "xg_clf = base_models.gen_best_xgboost(train_feature.iloc[:,:-1], train_feature.OutcomeType, **xg_param)\n",
    "xg_clf.fit(train_feature.iloc[:,:-1], train_feature.OutcomeType)\n",
    "log_loss(test_feature.OutcomeType, xg_clf.predict_proba(test_feature.iloc[:,:-1]))"
   ]
  },
  {
   "cell_type": "code",
   "execution_count": 31,
   "metadata": {
    "collapsed": false
   },
   "outputs": [
    {
     "data": {
      "text/plain": [
       "0.77916592648540972"
      ]
     },
     "execution_count": 31,
     "metadata": {},
     "output_type": "execute_result"
    }
   ],
   "source": [
    "log_loss(test_feature.OutcomeType, xg_clf.predict_proba(test_feature.iloc[:,:-1]))"
   ]
  },
  {
   "cell_type": "code",
   "execution_count": 81,
   "metadata": {
    "collapsed": false
   },
   "outputs": [
    {
     "data": {
      "text/plain": [
       "1.1315390432716415"
      ]
     },
     "execution_count": 81,
     "metadata": {},
     "output_type": "execute_result"
    }
   ],
   "source": [
    "rf_param = {\n",
    "    'scoring' : 'log_loss'\n",
    "}\n",
    "rf_clf = base_models.gen_best_rf(train_feature.iloc[:,:-1], train_feature.OutcomeType, **rf_param)\n",
    "rf_clf.fit(train_feature.iloc[:,:-1], train_feature.OutcomeType)\n",
    "log_loss(test_feature.OutcomeType, rf_clf.predict_proba(test_feature.iloc[:,:-1]))"
   ]
  },
  {
   "cell_type": "code",
   "execution_count": 102,
   "metadata": {
    "collapsed": true
   },
   "outputs": [],
   "source": [
    "import math\n",
    "class NormalizedEncoder(FeatureEncoder):\n",
    "    def __init__(self):\n",
    "        super(FeatureEncoder, self).__init__()\n",
    "        self.feature_dict = OrderedDict()\n",
    "    \n",
    "    def fit(self, raw_data):\n",
    "        le = LabelEncoder()\n",
    "        self.feature_dict['AnimalType'] = lambda x: le.fit_transform(x.AnimalType)\n",
    "        self.feature_dict['month'] = lambda x: \\\n",
    "        [datetime.datetime.strptime(xi, \"%Y-%m-%d %H:%M:%S\").date().month / 12.0 \\\n",
    "         for xi in x.DateTime]\n",
    "        self.feature_dict['season'] = lambda x: \\\n",
    "        [datetime.datetime.strptime(xi, \"%Y-%m-%d %H:%M:%S\").date().month // 4 / 3.0 \\\n",
    "         for xi in x.DateTime]\n",
    "        \n",
    "        self.feature_dict['10_day'] = lambda x: \\\n",
    "        [datetime.datetime.strptime(xi, \"%Y-%m-%d %H:%M:%S\").date().day // 10 / 3.0 \\\n",
    "         for xi in x.DateTime]\n",
    "        self.feature_dict['week'] = lambda x: \\\n",
    "        [datetime.datetime.strptime(xi, \"%Y-%m-%d %H:%M:%S\").date().weekday() / 7.0 \\\n",
    "         for xi in x.DateTime]\n",
    "        self.feature_dict['Age_weeks'] = lambda x:[math.log(parse_age(i) // 7 + 1) / 10.0 for i in x.AgeuponOutcome]\n",
    "        \n",
    "        one_hot(self.feature_dict, 'AgeuponOutcome', raw_data)\n",
    "        one_hot(self.feature_dict, 'SexuponOutcome', raw_data)\n",
    "        one_hot(self.feature_dict, 'Breed', raw_data)\n",
    "        one_hot(self.feature_dict, 'Color', raw_data)\n",
    "   \n",
    "        self.feature_dict['is_breed_mix'] = lambda x: [int(i.find('Mix') > 0) for i in x.Breed]\n",
    "        self.feature_dict['is_color_mix'] = lambda x: [int(i.find('/') > 0) for i in x.Color]\n",
    "        \n",
    "    def transform(self, raw_data):\n",
    "        transed_data = pandas.DataFrame()\n",
    "        for key, func in self.feature_dict.items():\n",
    "            if key.find('__')>0:\n",
    "                transed_data[key] = func(raw_data[key.split('__')[0]], key.split('__')[1])\n",
    "            else:\n",
    "                transed_data[key] = func(raw_data)\n",
    "        return transed_data\n",
    "        \n",
    "    def fit_transform(self, raw_data):\n",
    "        self.fit(raw_data)\n",
    "        return self.transform(raw_data)"
   ]
  },
  {
   "cell_type": "code",
   "execution_count": 103,
   "metadata": {
    "collapsed": true
   },
   "outputs": [],
   "source": [
    "nfe = NormalizedEncoder()"
   ]
  },
  {
   "cell_type": "code",
   "execution_count": 104,
   "metadata": {
    "collapsed": false
   },
   "outputs": [],
   "source": [
    "ffm_train_feature = nfe.fit_transform(train_data)\n",
    "le.fit(train_data.OutcomeType)\n",
    "ffm_train_feature['OutcomeType'] = le.transform(train_data.OutcomeType) / 5.0"
   ]
  },
  {
   "cell_type": "code",
   "execution_count": 105,
   "metadata": {
    "collapsed": false
   },
   "outputs": [
    {
     "data": {
      "text/plain": [
       "0"
      ]
     },
     "execution_count": 105,
     "metadata": {},
     "output_type": "execute_result"
    }
   ],
   "source": [
    "ffm_train_feature.to_csv('ffm_features', index=False)\n",
    "os.system('bash /home/huang_anli/kaggle_tools/ffm_trans.sh OutcomeType')\n",
    "os.system('mv ffm_features.transed ffm_feature.train')"
   ]
  },
  {
   "cell_type": "code",
   "execution_count": 106,
   "metadata": {
    "collapsed": false
   },
   "outputs": [
    {
     "data": {
      "text/plain": [
       "0"
      ]
     },
     "execution_count": 106,
     "metadata": {},
     "output_type": "execute_result"
    }
   ],
   "source": [
    "ffm_test_feature = nfe.transform(test_data)\n",
    "ffm_test_feature['OutcomeType'] = le.transform(test_data.OutcomeType) / 5.0\n",
    "ffm_test_feature.to_csv('ffm_features', index=False)\n",
    "os.system('bash /home/huang_anli/kaggle_tools/ffm_trans.sh OutcomeType')\n",
    "os.system('mv ffm_features.transed ffm_feature.test')"
   ]
  },
  {
   "cell_type": "code",
   "execution_count": 107,
   "metadata": {
    "collapsed": false
   },
   "outputs": [
    {
     "data": {
      "text/plain": [
       "0"
      ]
     },
     "execution_count": 107,
     "metadata": {},
     "output_type": "execute_result"
    }
   ],
   "source": [
    "os.system('/home/huang_anli/kaggle_tools/libffm/ffm-train --auto-stop -p ffm_feature.test -s 15 ffm_feature.train')"
   ]
  },
  {
   "cell_type": "code",
   "execution_count": 108,
   "metadata": {
    "collapsed": false
   },
   "outputs": [
    {
     "data": {
      "text/plain": [
       "0"
      ]
     },
     "execution_count": 108,
     "metadata": {},
     "output_type": "execute_result"
    }
   ],
   "source": [
    "os.system('/home/huang_anli/kaggle_tools/libffm/ffm-predict ffm_feature.test ffm_feature.train.model ffm_feature.test.res')"
   ]
  },
  {
   "cell_type": "code",
   "execution_count": 139,
   "metadata": {
    "collapsed": false
   },
   "outputs": [],
   "source": [
    "class FFMClassifier(object):\n",
    "    def __init__(self,\n",
    "                 model='ffm_feature.train.model', \n",
    "                 executor='/home/huang_anli/kaggle_tools/libffm/ffm-predict'):\n",
    "        super().__init__()\n",
    "        self.model = model\n",
    "        self.executor = executor\n",
    "    \n",
    "    def fit(self, raw_data):\n",
    "        nfe = NormalizedEncoder()\n",
    "        le = LabelEncoder()\n",
    "        raw_feature = nfe.fit_transform(raw_data)\n",
    "        raw_feature['OutcomeType'] = le.transform(raw_data.OutcomeType) / 5.0\n",
    "        raw_feature.to_csv('ffm_features', index=False)\n",
    "        os.system('bash /home/huang_anli/kaggle_tools/ffm_trans.sh OutcomeType')\n",
    "        os.system('mv ffm_features.transed ffm_feature.train')\n",
    "        os.system('/home/huang_anli/kaggle_tools/libffm/ffm-train -s 15 ffm_feature.train')\n",
    "    \n",
    "    def predict_proba(self, raw_data):\n",
    "        res_file = 'ffm_feature.train.res'\n",
    "        raw_feature = nfe.transform(raw_data)\n",
    "        raw_feature['OutcomeType'] = le.transform(raw_data.OutcomeType) / 5.0\n",
    "        raw_feature.to_csv('ffm_features', index=False)\n",
    "        os.system('bash /home/huang_anli/kaggle_tools/ffm_trans.sh OutcomeType')\n",
    "\n",
    "        os.system('{executor} ffm_features.transed {model} {res_file}'.format(executor = self.executor,\n",
    "                                                                       model = self.model,\n",
    "                                                                       res_file = res_file))\n",
    "        res = open(res_file, 'r').readlines()\n",
    "        return [float(i.rstrip()) for i in res]\n",
    "ffm_clf = FFMClassifier()"
   ]
  },
  {
   "cell_type": "code",
   "execution_count": 128,
   "metadata": {
    "collapsed": true
   },
   "outputs": [],
   "source": [
    "clfs = {\n",
    "    'lr' : lr_clf, \n",
    "    'xg' : xg_clf, \n",
    "    'rf' : rf_clf,\n",
    "    }"
   ]
  },
  {
   "cell_type": "code",
   "execution_count": 129,
   "metadata": {
    "collapsed": false
   },
   "outputs": [
    {
     "name": "stdout",
     "output_type": "stream",
     "text": [
      "lr\n",
      "xg\n",
      "rf\n"
     ]
    }
   ],
   "source": [
    "stacking_feature = pandas.DataFrame()\n",
    "for name, clf in clfs.items():\n",
    "    print(name)\n",
    "    res = clf.predict_proba(train_feature.iloc[:,:-1])\n",
    "    if isinstance(res[0], float):\n",
    "        key = name\n",
    "        stacking_feature[key] = res\n",
    "    else:\n",
    "        for i in range(len(res[0])):\n",
    "            key = name + '__' + str(i)\n",
    "            stacking_feature[key] = res[:, i]"
   ]
  },
  {
   "cell_type": "code",
   "execution_count": 140,
   "metadata": {
    "collapsed": false
   },
   "outputs": [],
   "source": [
    "res = ffm_clf.predict_proba(train_data)"
   ]
  },
  {
   "cell_type": "code",
   "execution_count": 142,
   "metadata": {
    "collapsed": false
   },
   "outputs": [],
   "source": [
    "stacking_feature['ffm'] = res"
   ]
  },
  {
   "cell_type": "code",
   "execution_count": 155,
   "metadata": {
    "collapsed": true
   },
   "outputs": [],
   "source": [
    "stacking_feature['OutcomeType'] = le.transform(train_data.OutcomeType)"
   ]
  },
  {
   "cell_type": "code",
   "execution_count": 158,
   "metadata": {
    "collapsed": false
   },
   "outputs": [
    {
     "data": {
      "text/plain": [
       "RandomForestClassifier(bootstrap=True, class_weight=None, criterion='entropy',\n",
       "            max_depth=18, max_features='auto', max_leaf_nodes=None,\n",
       "            min_samples_leaf=1, min_samples_split=3,\n",
       "            min_weight_fraction_leaf=0.05, n_estimators=200, n_jobs=4,\n",
       "            oob_score=False, random_state=None, verbose=0,\n",
       "            warm_start=False)"
      ]
     },
     "execution_count": 158,
     "metadata": {},
     "output_type": "execute_result"
    }
   ],
   "source": [
    "rf_param = {\n",
    "    'scoring' : 'log_loss'\n",
    "}\n",
    "\n",
    "stack_lr_clf = base_models.gen_best_rf(stacking_feature.iloc[:,:-1], stacking_feature.OutcomeType, **rf_param)\n",
    "stack_lr_clf.fit(stacking_feature.iloc[:,:-1], stacking_feature.OutcomeType)"
   ]
  },
  {
   "cell_type": "code",
   "execution_count": 151,
   "metadata": {
    "collapsed": false
   },
   "outputs": [
    {
     "name": "stdout",
     "output_type": "stream",
     "text": [
      "lr\n",
      "xg\n",
      "rf\n"
     ]
    }
   ],
   "source": [
    "stacking_test = pandas.DataFrame()\n",
    "for name, clf in clfs.items():\n",
    "    print(name)\n",
    "    res = clf.predict_proba(test_feature.iloc[:,:-1])\n",
    "    if isinstance(res[0], float):\n",
    "        key = name\n",
    "        stacking_test[key] = res\n",
    "    else:\n",
    "        for i in range(len(res[0])):\n",
    "            key = name + '__' + str(i)\n",
    "            stacking_test[key] = res[:, i]\n",
    "res = ffm_clf.predict_proba(test_data)\n",
    "stacking_test['ffm'] = res\n",
    "stacking_test['OutcomeType'] = test_data.OutcomeType"
   ]
  },
  {
   "cell_type": "code",
   "execution_count": 159,
   "metadata": {
    "collapsed": false
   },
   "outputs": [
    {
     "data": {
      "text/plain": [
       "0.80258591490842834"
      ]
     },
     "execution_count": 159,
     "metadata": {},
     "output_type": "execute_result"
    }
   ],
   "source": [
    "log_loss(stacking_test.OutcomeType, stack_lr_clf.predict_proba(stacking_test.iloc[:,:-1]))"
   ]
  },
  {
   "cell_type": "code",
   "execution_count": 161,
   "metadata": {
    "collapsed": false
   },
   "outputs": [
    {
     "name": "stdout",
     "output_type": "stream",
     "text": [
      "best tree params:  {'min_child_weight': 5, 'max_depth': 3}\n",
      "best score currently:  -0.570264624595\n",
      "best gamma params:  {'gamma': 0.7}\n",
      "best score currently:  -0.570012736827\n",
      "best subsample:  {'subsample': 0.8}\n",
      "best score currently:  -0.570012736827\n",
      "best reg:  {'reg_alpha': 0.005}\n",
      "best score currently:  -0.569949310677\n"
     ]
    }
   ],
   "source": [
    "stack_xg_clf = base_models.gen_best_xgboost(stacking_feature.iloc[:,:-1], stacking_feature.OutcomeType, **xg_param)"
   ]
  },
  {
   "cell_type": "code",
   "execution_count": 163,
   "metadata": {
    "collapsed": false
   },
   "outputs": [
    {
     "data": {
      "text/plain": [
       "0.85803073229098392"
      ]
     },
     "execution_count": 163,
     "metadata": {},
     "output_type": "execute_result"
    }
   ],
   "source": [
    "stack_xg_clf.fit(stacking_feature.iloc[:,:-1], stacking_feature.OutcomeType)\n",
    "log_loss(stacking_test.OutcomeType, stack_xg_clf.predict_proba(stacking_test.iloc[:,:-1]))"
   ]
  },
  {
   "cell_type": "code",
   "execution_count": 168,
   "metadata": {
    "collapsed": false
   },
   "outputs": [
    {
     "data": {
      "text/plain": [
       "<module 'load_data' from '/home/huang_anli/kaggle_tools/load_data.py'>"
      ]
     },
     "execution_count": 168,
     "metadata": {},
     "output_type": "execute_result"
    }
   ],
   "source": [
    "imp.reload(load_data)"
   ]
  },
  {
   "cell_type": "code",
   "execution_count": 173,
   "metadata": {
    "collapsed": false
   },
   "outputs": [
    {
     "name": "stdout",
     "output_type": "stream",
     "text": [
      "ID do not have default value\n"
     ]
    },
    {
     "ename": "AttributeError",
     "evalue": "'numpy.ndarray' object has no attribute 'to_csv'",
     "output_type": "error",
     "traceback": [
      "\u001b[1;31m---------------------------------------------------------------------------\u001b[0m",
      "\u001b[1;31mAttributeError\u001b[0m                            Traceback (most recent call last)",
      "\u001b[1;32m<ipython-input-173-26935b6582ab>\u001b[0m in \u001b[0;36m<module>\u001b[1;34m()\u001b[0m\n\u001b[0;32m      3\u001b[0m \u001b[0mres\u001b[0m \u001b[1;33m=\u001b[0m \u001b[0mxg_clf\u001b[0m\u001b[1;33m.\u001b[0m\u001b[0mpredict_proba\u001b[0m\u001b[1;33m(\u001b[0m\u001b[0mtrain_feature\u001b[0m\u001b[1;33m)\u001b[0m\u001b[1;33m\u001b[0m\u001b[0m\n\u001b[0;32m      4\u001b[0m \u001b[1;32mfrom\u001b[0m \u001b[0mwrite_data\u001b[0m \u001b[1;32mimport\u001b[0m \u001b[0mgen_kaggle_output\u001b[0m\u001b[1;33m\u001b[0m\u001b[0m\n\u001b[1;32m----> 5\u001b[1;33m \u001b[0mgen_kaggle_output\u001b[0m\u001b[1;33m(\u001b[0m\u001b[0mres\u001b[0m\u001b[1;33m,\u001b[0m \u001b[0mtrain_data\u001b[0m\u001b[1;33m.\u001b[0m\u001b[0mID\u001b[0m\u001b[1;33m,\u001b[0m \u001b[0mle\u001b[0m\u001b[1;33m.\u001b[0m\u001b[0mclasses_\u001b[0m\u001b[1;33m,\u001b[0m \u001b[1;34m'xgboost_2.csv'\u001b[0m\u001b[1;33m)\u001b[0m\u001b[1;33m\u001b[0m\u001b[0m\n\u001b[0m",
      "\u001b[1;32m/home/huang_anli/kaggle_tools/write_data.py\u001b[0m in \u001b[0;36mgen_kaggle_output\u001b[1;34m(res, ID, classes, file_name)\u001b[0m\n\u001b[0;32m     13\u001b[0m         \u001b[0mres_data\u001b[0m\u001b[1;33m[\u001b[0m\u001b[0mclass_\u001b[0m\u001b[1;33m]\u001b[0m \u001b[1;33m=\u001b[0m \u001b[0mres\u001b[0m\u001b[1;33m[\u001b[0m\u001b[1;33m:\u001b[0m\u001b[1;33m,\u001b[0m\u001b[0mi\u001b[0m\u001b[1;33m]\u001b[0m\u001b[1;33m\u001b[0m\u001b[0m\n\u001b[0;32m     14\u001b[0m \u001b[1;33m\u001b[0m\u001b[0m\n\u001b[1;32m---> 15\u001b[1;33m     \u001b[0mres\u001b[0m\u001b[1;33m.\u001b[0m\u001b[0mto_csv\u001b[0m\u001b[1;33m(\u001b[0m\u001b[0mfile_name\u001b[0m\u001b[1;33m,\u001b[0m \u001b[0mindex\u001b[0m\u001b[1;33m=\u001b[0m\u001b[1;32mFalse\u001b[0m\u001b[1;33m)\u001b[0m\u001b[1;33m\u001b[0m\u001b[0m\n\u001b[0m\u001b[0;32m     16\u001b[0m     \u001b[1;32mreturn\u001b[0m \u001b[1;36m0\u001b[0m\u001b[1;33m\u001b[0m\u001b[0m\n",
      "\u001b[1;31mAttributeError\u001b[0m: 'numpy.ndarray' object has no attribute 'to_csv'"
     ]
    }
   ],
   "source": [
    "train_data = load_data.init_data('test.csv', \"\", fill_dict)\n",
    "train_feature = feature_encoder.transform(train_data)\n",
    "res = xg_clf.predict_proba(train_feature)\n",
    "imp.reload(write_data)\n",
    "write_data.gen_ans(res, train_data.ID, le.classes_, 'xgboost_2.csv')"
   ]
  },
  {
   "cell_type": "code",
   "execution_count": 176,
   "metadata": {
    "collapsed": false
   },
   "outputs": [
    {
     "data": {
      "text/plain": [
       "0"
      ]
     },
     "execution_count": 176,
     "metadata": {},
     "output_type": "execute_result"
    }
   ],
   "source": []
  },
  {
   "cell_type": "code",
   "execution_count": 177,
   "metadata": {
    "collapsed": false
   },
   "outputs": [
    {
     "data": {
      "text/plain": [
       "0"
      ]
     },
     "execution_count": 177,
     "metadata": {},
     "output_type": "execute_result"
    }
   ],
   "source": [
    "imp.reload(write_data)\n",
    "write_data.gen_ans(res, train_data.ID, le.classes_, 'xgboost_2.csv')"
   ]
  },
  {
   "cell_type": "code",
   "execution_count": null,
   "metadata": {
    "collapsed": true
   },
   "outputs": [],
   "source": []
  }
 ],
 "metadata": {
  "kernelspec": {
   "display_name": "Python 3",
   "language": "python",
   "name": "python3"
  },
  "language_info": {
   "codemirror_mode": {
    "name": "ipython",
    "version": 3
   },
   "file_extension": ".py",
   "mimetype": "text/x-python",
   "name": "python",
   "nbconvert_exporter": "python",
   "pygments_lexer": "ipython3",
   "version": "3.5.1"
  }
 },
 "nbformat": 4,
 "nbformat_minor": 0
}
