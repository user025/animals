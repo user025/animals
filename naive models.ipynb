{
 "cells": [
  {
   "cell_type": "code",
   "execution_count": 1,
   "metadata": {
    "collapsed": true
   },
   "outputs": [],
   "source": [
    "import pandas\n",
    "import datetime\n",
    "import numpy as np\n",
    "from sklearn.naive_bayes import MultinomialNB\n",
    "from sklearn.preprocessing import MultiLabelBinarizer\n",
    "from sklearn.preprocessing import LabelEncoder\n",
    "from sklearn.cross_validation import KFold\n",
    "from sklearn.metrics import *"
   ]
  },
  {
   "cell_type": "code",
   "execution_count": 2,
   "metadata": {
    "collapsed": false
   },
   "outputs": [],
   "source": [
    "data = pandas.read_csv('train.csv')"
   ]
  },
  {
   "cell_type": "code",
   "execution_count": 3,
   "metadata": {
    "collapsed": false
   },
   "outputs": [],
   "source": [
    "mlb = MultiLabelBinarizer()\n",
    "le = LabelEncoder()"
   ]
  },
  {
   "cell_type": "code",
   "execution_count": 4,
   "metadata": {
    "collapsed": false
   },
   "outputs": [],
   "source": [
    "breed_count = data.Breed.value_counts()\n",
    "color_count = data.Color.value_counts()"
   ]
  },
  {
   "cell_type": "code",
   "execution_count": 5,
   "metadata": {
    "collapsed": true
   },
   "outputs": [],
   "source": [
    "def parse_age(x):\n",
    "    time, resolution = x.split(' ')\n",
    "    time = int(time)\n",
    "    if resolution.startswith('day'):\n",
    "        return int(time)\n",
    "    elif resolution.startswith('week'):\n",
    "        return int(time * 7)\n",
    "    elif resolution.startswith('month'):\n",
    "        return int(time * 30)\n",
    "    elif resolution.startswith('year'):\n",
    "        return int(time * 365)\n",
    "    else:\n",
    "        print(x)"
   ]
  },
  {
   "cell_type": "code",
   "execution_count": 6,
   "metadata": {
    "collapsed": false
   },
   "outputs": [],
   "source": [
    "try:\n",
    "    del train_data\n",
    "except:\n",
    "    pass\n",
    "train_data = pandas.DataFrame()\n",
    "\n",
    "\n",
    "def gen_feature(raw_data, transed_data):\n",
    "    if 'OutcomeType' in raw_data:\n",
    "        transed_data['OutcomeType'] = le.fit_transform(raw_data['OutcomeType'])\n",
    "    transed_data['AnimalType'] = le.fit_transform(raw_data['AnimalType'])\n",
    "    #众数填充\n",
    "    raw_data['SexuponOutcome'].fillna(inplace = True, value = raw_data['SexuponOutcome'].describe().top)\n",
    "    raw_data['AgeuponOutcome'].fillna(inplace = True, value = raw_data['AgeuponOutcome'].describe().top)\n",
    "    date_list = [datetime.datetime.strptime(x, \"%Y-%m-%d %H:%M:%S\") for x in raw_data['DateTime']]\n",
    "    transed_data['month'] = [x.date().month for x in date_list]\n",
    "    transed_data['season'] = [int(x.date().month / 4) for x in date_list]\n",
    "    transed_data['10_day'] = [int(x.date().day / 10) for x in date_list]\n",
    "    transed_data['week'] = [x.date().isoweekday() for x in date_list]\n",
    "    train_data['Age_days'] = data.AgeuponOutcome.apply(parse_age) \n",
    "    age_cat = mlb.fit_transform([[x] for x in raw_data['AgeuponOutcome']])\n",
    "    for i, val in zip(mlb.classes_, age_cat.T):\n",
    "        transed_data['AgeuponOutcome_' + i.replace(' ','_')] = val\n",
    "    del age_cat\n",
    "    \n",
    "    sex_cat = mlb.fit_transform([[x] for x in raw_data['SexuponOutcome']])\n",
    "    for i, val in zip(mlb.classes_, sex_cat.T):\n",
    "        transed_data['SexuponOutcome_' + i.replace(' ','_')] = val\n",
    "    del sex_cat\n",
    "   \n",
    "    breed_cat = mlb.fit_transform([[x] for x in raw_data['Breed']])\n",
    "    for i, val in zip(mlb.classes_, breed_cat.T):\n",
    "        if breed_count.loc[i] > 30:\n",
    "            transed_data['Breed_' + i.replace(' ', '_')] = val\n",
    "    del breed_cat\n",
    "    color_cat = mlb.fit_transform([[x] for x in raw_data['Color']])\n",
    "    for i, val in zip(mlb.classes_, color_cat.T):\n",
    "        if color_count.loc[i] > 30:\n",
    "            transed_data['Color_' + i.replace(' ','_')] = val\n",
    "    del color_cat\n",
    "   \n",
    "    transed_data['is_breed_mix'] = data.Breed.apply(lambda x: int(x.find('Mix') > 0))\n",
    "    transed_data['is_color_mix'] = data.Color.apply(lambda x: int(x.find('/') > 0))\n"
   ]
  },
  {
   "cell_type": "code",
   "execution_count": 49,
   "metadata": {
    "collapsed": true
   },
   "outputs": [],
   "source": [
    "def convert_feature(raw_data, transed_data, referer):\n",
    "    transed_data['AnimalType'] = le.fit_transform(raw_data['AnimalType'])\n",
    "    #众数填充\n",
    "    raw_data['SexuponOutcome'].fillna(inplace = True, value = raw_data['SexuponOutcome'].describe().top)\n",
    "    raw_data['AgeuponOutcome'].fillna(inplace = True, value = raw_data['AgeuponOutcome'].describe().top)\n",
    "    date_list = [datetime.datetime.strptime(x, \"%Y-%m-%d %H:%M:%S\") for x in raw_data['DateTime']]\n",
    "    train_data['Age_days'] = data.AgeuponOutcome.apply(parse_age) \n",
    "    transed_data['month'] = [x.date().month for x in date_list]\n",
    "    transed_data['season'] = [int(x.date().month / 4) for x in date_list]\n",
    "    transed_data['10_day'] = [int(x.date().day / 10) for x in date_list]\n",
    "    transed_data['week'] = [x.date().isoweekday() for x in date_list]\n",
    "    age_cat = mlb.fit_transform([[x] for x in raw_data['AgeuponOutcome']])\n",
    "    for i, val in zip(mlb.classes_, age_cat.T):\n",
    "        if (i in referer):\n",
    "            transed_data['AgeuponOutcome_' + i.replace(' ','_')] = val\n",
    "    del age_cat\n",
    "    \n",
    "    sex_cat = mlb.fit_transform([[x] for x in raw_data['SexuponOutcome']])\n",
    "    for i, val in zip(mlb.classes_, sex_cat.T):\n",
    "        if (i in referer):\n",
    "            transed_data['SexuponOutcome_' + i.replace(' ','_')] = val\n",
    "    del sex_cat\n",
    "   \n",
    "    breed_cat = mlb.fit_transform([[x] for x in raw_data['Breed']])\n",
    "    for i, val in zip(mlb.classes_, breed_cat.T):\n",
    "        if (i in referer):\n",
    "            transed_data['Breed_' + i.replace(' ', '_')] = val\n",
    "    del breed_cat\n",
    "    color_cat = mlb.fit_transform([[x] for x in raw_data['Color']])\n",
    "    for i, val in zip(mlb.classes_, color_cat.T):\n",
    "        if (i in referer):\n",
    "            transed_data['Color_' + i.replace(' ','_')] = val\n",
    "    del color_cat\n",
    "    \n",
    "    num = len(transed_data)\n",
    "    for i in referer:\n",
    "        if i not in transed_data and i != \"OutcomeType\":\n",
    "            transed_data[i] = np.zeros((num, 1)).astype(int)\n",
    "    transed_data['is_breed_mix'] = data.Breed.apply(lambda x: int(x.find('Mix') > 0))\n",
    "    transed_data['is_color_mix'] = data.Color.apply(lambda x: int(x.find('/') > 0))"
   ]
  },
  {
   "cell_type": "code",
   "execution_count": 8,
   "metadata": {
    "collapsed": false
   },
   "outputs": [],
   "source": [
    "gen_feature(data, train_data)"
   ]
  },
  {
   "cell_type": "code",
   "execution_count": 9,
   "metadata": {
    "collapsed": false
   },
   "outputs": [
    {
     "data": {
      "text/html": [
       "<div>\n",
       "<table border=\"1\" class=\"dataframe\">\n",
       "  <thead>\n",
       "    <tr style=\"text-align: right;\">\n",
       "      <th></th>\n",
       "      <th>OutcomeType</th>\n",
       "      <th>AnimalType</th>\n",
       "      <th>month</th>\n",
       "      <th>season</th>\n",
       "      <th>10_day</th>\n",
       "      <th>week</th>\n",
       "      <th>Age_days</th>\n",
       "      <th>AgeuponOutcome_0_years</th>\n",
       "      <th>AgeuponOutcome_1_day</th>\n",
       "      <th>AgeuponOutcome_1_month</th>\n",
       "      <th>...</th>\n",
       "      <th>Color_White/Cream</th>\n",
       "      <th>Color_White/Gray</th>\n",
       "      <th>Color_White/Orange_Tabby</th>\n",
       "      <th>Color_White/Red</th>\n",
       "      <th>Color_White/Tan</th>\n",
       "      <th>Color_White/Tricolor</th>\n",
       "      <th>Color_Yellow</th>\n",
       "      <th>Color_Yellow/White</th>\n",
       "      <th>is_breed_mix</th>\n",
       "      <th>is_color_mix</th>\n",
       "    </tr>\n",
       "  </thead>\n",
       "  <tbody>\n",
       "    <tr>\n",
       "      <th>0</th>\n",
       "      <td>3</td>\n",
       "      <td>1</td>\n",
       "      <td>2</td>\n",
       "      <td>0</td>\n",
       "      <td>1</td>\n",
       "      <td>3</td>\n",
       "      <td>365</td>\n",
       "      <td>0</td>\n",
       "      <td>0</td>\n",
       "      <td>0</td>\n",
       "      <td>...</td>\n",
       "      <td>0</td>\n",
       "      <td>0</td>\n",
       "      <td>0</td>\n",
       "      <td>0</td>\n",
       "      <td>0</td>\n",
       "      <td>0</td>\n",
       "      <td>0</td>\n",
       "      <td>0</td>\n",
       "      <td>1</td>\n",
       "      <td>1</td>\n",
       "    </tr>\n",
       "    <tr>\n",
       "      <th>1</th>\n",
       "      <td>2</td>\n",
       "      <td>0</td>\n",
       "      <td>10</td>\n",
       "      <td>2</td>\n",
       "      <td>1</td>\n",
       "      <td>7</td>\n",
       "      <td>365</td>\n",
       "      <td>0</td>\n",
       "      <td>0</td>\n",
       "      <td>0</td>\n",
       "      <td>...</td>\n",
       "      <td>0</td>\n",
       "      <td>0</td>\n",
       "      <td>0</td>\n",
       "      <td>0</td>\n",
       "      <td>0</td>\n",
       "      <td>0</td>\n",
       "      <td>0</td>\n",
       "      <td>0</td>\n",
       "      <td>1</td>\n",
       "      <td>0</td>\n",
       "    </tr>\n",
       "    <tr>\n",
       "      <th>2</th>\n",
       "      <td>0</td>\n",
       "      <td>1</td>\n",
       "      <td>1</td>\n",
       "      <td>0</td>\n",
       "      <td>3</td>\n",
       "      <td>6</td>\n",
       "      <td>730</td>\n",
       "      <td>0</td>\n",
       "      <td>0</td>\n",
       "      <td>0</td>\n",
       "      <td>...</td>\n",
       "      <td>0</td>\n",
       "      <td>0</td>\n",
       "      <td>0</td>\n",
       "      <td>0</td>\n",
       "      <td>0</td>\n",
       "      <td>0</td>\n",
       "      <td>0</td>\n",
       "      <td>0</td>\n",
       "      <td>1</td>\n",
       "      <td>1</td>\n",
       "    </tr>\n",
       "    <tr>\n",
       "      <th>3</th>\n",
       "      <td>4</td>\n",
       "      <td>0</td>\n",
       "      <td>7</td>\n",
       "      <td>1</td>\n",
       "      <td>1</td>\n",
       "      <td>5</td>\n",
       "      <td>21</td>\n",
       "      <td>0</td>\n",
       "      <td>0</td>\n",
       "      <td>0</td>\n",
       "      <td>...</td>\n",
       "      <td>0</td>\n",
       "      <td>0</td>\n",
       "      <td>0</td>\n",
       "      <td>0</td>\n",
       "      <td>0</td>\n",
       "      <td>0</td>\n",
       "      <td>0</td>\n",
       "      <td>0</td>\n",
       "      <td>1</td>\n",
       "      <td>0</td>\n",
       "    </tr>\n",
       "    <tr>\n",
       "      <th>4</th>\n",
       "      <td>4</td>\n",
       "      <td>1</td>\n",
       "      <td>11</td>\n",
       "      <td>2</td>\n",
       "      <td>1</td>\n",
       "      <td>5</td>\n",
       "      <td>730</td>\n",
       "      <td>0</td>\n",
       "      <td>0</td>\n",
       "      <td>0</td>\n",
       "      <td>...</td>\n",
       "      <td>0</td>\n",
       "      <td>0</td>\n",
       "      <td>0</td>\n",
       "      <td>0</td>\n",
       "      <td>0</td>\n",
       "      <td>0</td>\n",
       "      <td>0</td>\n",
       "      <td>0</td>\n",
       "      <td>0</td>\n",
       "      <td>0</td>\n",
       "    </tr>\n",
       "  </tbody>\n",
       "</table>\n",
       "<p>5 rows × 212 columns</p>\n",
       "</div>"
      ],
      "text/plain": [
       "   OutcomeType  AnimalType  month  season  10_day  week  Age_days  \\\n",
       "0            3           1      2       0       1     3       365   \n",
       "1            2           0     10       2       1     7       365   \n",
       "2            0           1      1       0       3     6       730   \n",
       "3            4           0      7       1       1     5        21   \n",
       "4            4           1     11       2       1     5       730   \n",
       "\n",
       "   AgeuponOutcome_0_years  AgeuponOutcome_1_day  AgeuponOutcome_1_month  \\\n",
       "0                       0                     0                       0   \n",
       "1                       0                     0                       0   \n",
       "2                       0                     0                       0   \n",
       "3                       0                     0                       0   \n",
       "4                       0                     0                       0   \n",
       "\n",
       "       ...       Color_White/Cream  Color_White/Gray  \\\n",
       "0      ...                       0                 0   \n",
       "1      ...                       0                 0   \n",
       "2      ...                       0                 0   \n",
       "3      ...                       0                 0   \n",
       "4      ...                       0                 0   \n",
       "\n",
       "   Color_White/Orange_Tabby  Color_White/Red  Color_White/Tan  \\\n",
       "0                         0                0                0   \n",
       "1                         0                0                0   \n",
       "2                         0                0                0   \n",
       "3                         0                0                0   \n",
       "4                         0                0                0   \n",
       "\n",
       "   Color_White/Tricolor  Color_Yellow  Color_Yellow/White  is_breed_mix  \\\n",
       "0                     0             0                   0             1   \n",
       "1                     0             0                   0             1   \n",
       "2                     0             0                   0             1   \n",
       "3                     0             0                   0             1   \n",
       "4                     0             0                   0             0   \n",
       "\n",
       "   is_color_mix  \n",
       "0             1  \n",
       "1             0  \n",
       "2             1  \n",
       "3             0  \n",
       "4             0  \n",
       "\n",
       "[5 rows x 212 columns]"
      ]
     },
     "execution_count": 9,
     "metadata": {},
     "output_type": "execute_result"
    }
   ],
   "source": [
    "train_data.head()"
   ]
  },
  {
   "cell_type": "code",
   "execution_count": 10,
   "metadata": {
    "collapsed": false
   },
   "outputs": [],
   "source": [
    "mnb = MultinomialNB()"
   ]
  },
  {
   "cell_type": "code",
   "execution_count": 11,
   "metadata": {
    "collapsed": false
   },
   "outputs": [],
   "source": [
    "kf = KFold(len(train_data), 10, shuffle=True)"
   ]
  },
  {
   "cell_type": "code",
   "execution_count": 12,
   "metadata": {
    "collapsed": false
   },
   "outputs": [],
   "source": [
    "data_to_predict = pandas.read_csv('test.csv')"
   ]
  },
  {
   "cell_type": "code",
   "execution_count": 50,
   "metadata": {
    "collapsed": false
   },
   "outputs": [],
   "source": [
    "data_test = pandas.DataFrame()\n",
    "kf = KFold(len(train_data), 10, shuffle=True)\n",
    "convert_feature(data_to_predict, data_test, train_data.columns)\n"
   ]
  },
  {
   "cell_type": "code",
   "execution_count": 14,
   "metadata": {
    "collapsed": false
   },
   "outputs": [
    {
     "ename": "NameError",
     "evalue": "name 'res' is not defined",
     "output_type": "error",
     "traceback": [
      "\u001b[0;31m---------------------------------------------------------------------------\u001b[0m",
      "\u001b[0;31mNameError\u001b[0m                                 Traceback (most recent call last)",
      "\u001b[0;32m<ipython-input-14-1b57363793ae>\u001b[0m in \u001b[0;36m<module>\u001b[0;34m()\u001b[0m\n\u001b[1;32m      4\u001b[0m \u001b[0mres_data\u001b[0m\u001b[0;34m[\u001b[0m\u001b[0;34m'ID'\u001b[0m\u001b[0;34m]\u001b[0m \u001b[0;34m=\u001b[0m \u001b[0mdata_to_predict\u001b[0m\u001b[0;34m.\u001b[0m\u001b[0mID\u001b[0m\u001b[0;34m\u001b[0m\u001b[0m\n\u001b[1;32m      5\u001b[0m \u001b[0;32mfor\u001b[0m \u001b[0mi\u001b[0m \u001b[0;32min\u001b[0m \u001b[0mrange\u001b[0m\u001b[0;34m(\u001b[0m\u001b[0;36m0\u001b[0m\u001b[0;34m,\u001b[0m\u001b[0;36m5\u001b[0m\u001b[0;34m)\u001b[0m\u001b[0;34m:\u001b[0m\u001b[0;34m\u001b[0m\u001b[0m\n\u001b[0;32m----> 6\u001b[0;31m     \u001b[0mres_data\u001b[0m\u001b[0;34m[\u001b[0m\u001b[0mle\u001b[0m\u001b[0;34m.\u001b[0m\u001b[0mclasses_\u001b[0m\u001b[0;34m[\u001b[0m\u001b[0mi\u001b[0m\u001b[0;34m]\u001b[0m\u001b[0;34m]\u001b[0m \u001b[0;34m=\u001b[0m \u001b[0mres\u001b[0m\u001b[0;34m[\u001b[0m\u001b[0;34m:\u001b[0m\u001b[0;34m,\u001b[0m\u001b[0mi\u001b[0m\u001b[0;34m]\u001b[0m\u001b[0;34m\u001b[0m\u001b[0m\n\u001b[0m\u001b[1;32m      7\u001b[0m \u001b[0mres_data\u001b[0m\u001b[0;34m.\u001b[0m\u001b[0mto_csv\u001b[0m\u001b[0;34m(\u001b[0m\u001b[0;34m'base_ans.csv'\u001b[0m\u001b[0;34m,\u001b[0m \u001b[0mindex\u001b[0m\u001b[0;34m=\u001b[0m\u001b[0;32mFalse\u001b[0m\u001b[0;34m)\u001b[0m\u001b[0;34m\u001b[0m\u001b[0m\n",
      "\u001b[0;31mNameError\u001b[0m: name 'res' is not defined"
     ]
    }
   ],
   "source": [
    "#result 1.2\n",
    "res_data = pandas.DataFrame()\n",
    "le.fit_transform(data['OutcomeType'])\n",
    "res_data['ID'] = data_to_predict.ID\n",
    "for i in range(0,5):\n",
    "    res_data[le.classes_[i]] = res[:,i]\n",
    "res_data.to_csv('base_ans.csv', index=False)"
   ]
  },
  {
   "cell_type": "code",
   "execution_count": 123,
   "metadata": {
    "collapsed": false
   },
   "outputs": [
    {
     "data": {
      "text/plain": [
       "\"\\nfrom sklearn.naive_bayes import GaussianNB\\ngnb = BernoulliNB()\\nbi_train_data = train_data.copy()\\ndel bi_train_data['month']\\ndel bi_train_data['season']\\ndel bi_train_data['10_day']\\ndel bi_train_data['week']\\n\\ntmp = mlb.fit_transform([[x] for x in train_data['month']])\\nfor i, val in zip(mlb.classes_, tmp.T):\\n    bi_train_data['month_' + str(i)] = val\\n\\ntmp = mlb.fit_transform([[x] for x in train_data['season']])\\nfor i, val in zip(mlb.classes_, tmp.T):\\n    bi_train_data['season_' + str(i)] = val\\n    \\ntmp = mlb.fit_transform([[x] for x in train_data['10_day']])\\nfor i, val in zip(mlb.classes_, tmp.T):\\n    bi_train_data['10_day_' + str(i)] = val\\n    \\ntmp = mlb.fit_transform([[x] for x in train_data['week']])\\nfor i, val in zip(mlb.classes_, tmp.T):\\n    bi_train_data['week_' + str(i)] = val\\ndel tmp\\n\\nfor train_idx, test_idx in kf:\\n    X_train = bi_train_data.iloc[train_idx]\\n    X_test = bi_train_data.iloc[test_idx]\\n    gnb.fit(X_train.iloc[:,1:], X_train.OutcomeType)\\n    w = gnb.predict_proba(X_test.iloc[:,1:])\\n    print(log_loss(X_test.OutcomeType, w))\\n\""
      ]
     },
     "execution_count": 123,
     "metadata": {},
     "output_type": "execute_result"
    }
   ],
   "source": [
    "\"\"\"\n",
    "from sklearn.naive_bayes import GaussianNB\n",
    "gnb = BernoulliNB()\n",
    "bi_train_data = train_data.copy()\n",
    "del bi_train_data['month']\n",
    "del bi_train_data['season']\n",
    "del bi_train_data['10_day']\n",
    "del bi_train_data['week']\n",
    "\n",
    "tmp = mlb.fit_transform([[x] for x in train_data['month']])\n",
    "for i, val in zip(mlb.classes_, tmp.T):\n",
    "    bi_train_data['month_' + str(i)] = val\n",
    "\n",
    "tmp = mlb.fit_transform([[x] for x in train_data['season']])\n",
    "for i, val in zip(mlb.classes_, tmp.T):\n",
    "    bi_train_data['season_' + str(i)] = val\n",
    "    \n",
    "tmp = mlb.fit_transform([[x] for x in train_data['10_day']])\n",
    "for i, val in zip(mlb.classes_, tmp.T):\n",
    "    bi_train_data['10_day_' + str(i)] = val\n",
    "    \n",
    "tmp = mlb.fit_transform([[x] for x in train_data['week']])\n",
    "for i, val in zip(mlb.classes_, tmp.T):\n",
    "    bi_train_data['week_' + str(i)] = val\n",
    "del tmp\n",
    "\n",
    "for train_idx, test_idx in kf:\n",
    "    X_train = bi_train_data.iloc[train_idx]\n",
    "    X_test = bi_train_data.iloc[test_idx]\n",
    "    gnb.fit(X_train.iloc[:,1:], X_train.OutcomeType)\n",
    "    w = gnb.predict_proba(X_test.iloc[:,1:])\n",
    "    print(log_loss(X_test.OutcomeType, w))\n",
    "\"\"\""
   ]
  },
  {
   "cell_type": "code",
   "execution_count": 18,
   "metadata": {
    "collapsed": false
   },
   "outputs": [],
   "source": [
    "predicts = None\n",
    "X_trian = None\n",
    "X_test = None\n",
    "def model_fit(alg, dtrain, predictors, cv_folds=5, early_stopping_rounds=50):\n",
    "    xgb_param = alg.get_xgb_params()\n",
    "    xgb_param['num_class'] = 5\n",
    "    #Fit the algorithm on the data\n",
    "    kf = KFold(len(dtrain), cv_folds, shuffle=True)\n",
    "    for train_idx, test_idx in kf:\n",
    "        global X_train, X_test\n",
    "        X_train = dtrain.iloc[train_idx]\n",
    "        X_test = dtrain.iloc[test_idx]\n",
    "        alg.fit(X_train.iloc[:,1:],\n",
    "                X_train.OutcomeType, \n",
    "                eval_metric='mlogloss',\n",
    "               verbose=True)\n",
    "\n",
    "        #Predict training set:\n",
    "        dtrain_predictions = alg.predict(X_test.iloc[:,1:])\n",
    "        global predicts\n",
    "        predicts = alg.predict_proba(X_test.iloc[:,1:])\n",
    "        #Print model report:\n",
    "        print(\"Model Report\")\n",
    "        print(\"Accuracy : %.4g\" % accuracy_score(X_test.OutcomeType, dtrain_predictions))\n",
    "        print(\"LogLoss : %.4g\" % log_loss(X_test.OutcomeType, predicts))\n",
    "        break\n",
    "                            "
   ]
  },
  {
   "cell_type": "code",
   "execution_count": 42,
   "metadata": {
    "collapsed": false
   },
   "outputs": [],
   "source": [
    "import xgboost as xgb\n",
    "evals_res = {}\n",
    "base_model = xgb.XGBClassifier(\n",
    " learning_rate =0.1,\n",
    " n_estimators=1000,\n",
    " max_depth=5,\n",
    " min_child_weight=1,\n",
    " gamma=0,\n",
    " subsample=0.8,\n",
    " colsample_bytree=0.8,\n",
    " objective= 'multi:softprob',\n",
    " nthread=4,\n",
    " scale_pos_weight=1,\n",
    " seed=27)\n"
   ]
  },
  {
   "cell_type": "code",
   "execution_count": 46,
   "metadata": {
    "collapsed": false
   },
   "outputs": [
    {
     "name": "stderr",
     "output_type": "stream",
     "text": [
      "/usr/local/lib/python3.5/site-packages/xgboost-0.4-py3.5.egg/xgboost/core.py:896: VisibleDeprecationWarning: using a non-integer number instead of an integer will result in an error in the future\n",
      "  preds = preds.reshape(nrow, preds.size / nrow)\n"
     ]
    },
    {
     "name": "stdout",
     "output_type": "stream",
     "text": [
      "Model Report\n",
      "Accuracy : 0.6382\n"
     ]
    },
    {
     "ename": "ValueError",
     "evalue": "Found arrays with inconsistent numbers of samples: [   5 5346]",
     "output_type": "error",
     "traceback": [
      "\u001b[0;31m---------------------------------------------------------------------------\u001b[0m",
      "\u001b[0;31mValueError\u001b[0m                                Traceback (most recent call last)",
      "\u001b[0;32m<ipython-input-46-073e3ae7e500>\u001b[0m in \u001b[0;36m<module>\u001b[0;34m()\u001b[0m\n\u001b[0;32m----> 1\u001b[0;31m \u001b[0mmodel_fit\u001b[0m\u001b[0;34m(\u001b[0m\u001b[0mbase_model\u001b[0m\u001b[0;34m,\u001b[0m \u001b[0mtrain_data\u001b[0m\u001b[0;34m,\u001b[0m \u001b[0;32mNone\u001b[0m\u001b[0;34m)\u001b[0m\u001b[0;34m\u001b[0m\u001b[0m\n\u001b[0m",
      "\u001b[0;32m<ipython-input-18-e3c0a08e7271>\u001b[0m in \u001b[0;36mmodel_fit\u001b[0;34m(alg, dtrain, predictors, cv_folds, early_stopping_rounds)\u001b[0m\n\u001b[1;32m     23\u001b[0m         \u001b[0mprint\u001b[0m\u001b[0;34m(\u001b[0m\u001b[0;34m\"Model Report\"\u001b[0m\u001b[0;34m)\u001b[0m\u001b[0;34m\u001b[0m\u001b[0m\n\u001b[1;32m     24\u001b[0m         \u001b[0mprint\u001b[0m\u001b[0;34m(\u001b[0m\u001b[0;34m\"Accuracy : %.4g\"\u001b[0m \u001b[0;34m%\u001b[0m \u001b[0maccuracy_score\u001b[0m\u001b[0;34m(\u001b[0m\u001b[0mX_test\u001b[0m\u001b[0;34m.\u001b[0m\u001b[0mOutcomeType\u001b[0m\u001b[0;34m,\u001b[0m \u001b[0mdtrain_predictions\u001b[0m\u001b[0;34m)\u001b[0m\u001b[0;34m)\u001b[0m\u001b[0;34m\u001b[0m\u001b[0m\n\u001b[0;32m---> 25\u001b[0;31m         \u001b[0mprint\u001b[0m\u001b[0;34m(\u001b[0m\u001b[0;34m\"LogLoss : %.4g\"\u001b[0m \u001b[0;34m%\u001b[0m \u001b[0mlog_loss\u001b[0m\u001b[0;34m(\u001b[0m\u001b[0mX_test\u001b[0m\u001b[0;34m.\u001b[0m\u001b[0mOutcomeType\u001b[0m\u001b[0;34m,\u001b[0m \u001b[0mpredicts\u001b[0m\u001b[0;34m.\u001b[0m\u001b[0mT\u001b[0m\u001b[0;34m)\u001b[0m\u001b[0;34m)\u001b[0m\u001b[0;34m\u001b[0m\u001b[0m\n\u001b[0m\u001b[1;32m     26\u001b[0m         \u001b[0;32mbreak\u001b[0m\u001b[0;34m\u001b[0m\u001b[0m\n\u001b[1;32m     27\u001b[0m \u001b[0;34m\u001b[0m\u001b[0m\n",
      "\u001b[0;32m/usr/local/lib/python3.5/site-packages/sklearn/metrics/classification.py\u001b[0m in \u001b[0;36mlog_loss\u001b[0;34m(y_true, y_pred, eps, normalize, sample_weight)\u001b[0m\n\u001b[1;32m   1558\u001b[0m \u001b[0;34m\u001b[0m\u001b[0m\n\u001b[1;32m   1559\u001b[0m     \u001b[0;31m# Check if dimensions are consistent.\u001b[0m\u001b[0;34m\u001b[0m\u001b[0;34m\u001b[0m\u001b[0m\n\u001b[0;32m-> 1560\u001b[0;31m     \u001b[0mcheck_consistent_length\u001b[0m\u001b[0;34m(\u001b[0m\u001b[0mT\u001b[0m\u001b[0;34m,\u001b[0m \u001b[0mY\u001b[0m\u001b[0;34m)\u001b[0m\u001b[0;34m\u001b[0m\u001b[0m\n\u001b[0m\u001b[1;32m   1561\u001b[0m     \u001b[0mT\u001b[0m \u001b[0;34m=\u001b[0m \u001b[0mcheck_array\u001b[0m\u001b[0;34m(\u001b[0m\u001b[0mT\u001b[0m\u001b[0;34m)\u001b[0m\u001b[0;34m\u001b[0m\u001b[0m\n\u001b[1;32m   1562\u001b[0m     \u001b[0mY\u001b[0m \u001b[0;34m=\u001b[0m \u001b[0mcheck_array\u001b[0m\u001b[0;34m(\u001b[0m\u001b[0mY\u001b[0m\u001b[0;34m)\u001b[0m\u001b[0;34m\u001b[0m\u001b[0m\n",
      "\u001b[0;32m/usr/local/lib/python3.5/site-packages/sklearn/utils/validation.py\u001b[0m in \u001b[0;36mcheck_consistent_length\u001b[0;34m(*arrays)\u001b[0m\n\u001b[1;32m    174\u001b[0m     \u001b[0;32mif\u001b[0m \u001b[0mlen\u001b[0m\u001b[0;34m(\u001b[0m\u001b[0muniques\u001b[0m\u001b[0;34m)\u001b[0m \u001b[0;34m>\u001b[0m \u001b[0;36m1\u001b[0m\u001b[0;34m:\u001b[0m\u001b[0;34m\u001b[0m\u001b[0m\n\u001b[1;32m    175\u001b[0m         raise ValueError(\"Found arrays with inconsistent numbers of samples: \"\n\u001b[0;32m--> 176\u001b[0;31m                          \"%s\" % str(uniques))\n\u001b[0m\u001b[1;32m    177\u001b[0m \u001b[0;34m\u001b[0m\u001b[0m\n\u001b[1;32m    178\u001b[0m \u001b[0;34m\u001b[0m\u001b[0m\n",
      "\u001b[0;31mValueError\u001b[0m: Found arrays with inconsistent numbers of samples: [   5 5346]"
     ]
    }
   ],
   "source": [
    "model_fit(base_model, train_data, None)"
   ]
  },
  {
   "cell_type": "code",
   "execution_count": 47,
   "metadata": {
    "collapsed": false
   },
   "outputs": [
    {
     "name": "stdout",
     "output_type": "stream",
     "text": [
      "LogLoss : 0.8889\n"
     ]
    }
   ],
   "source": [
    "print(\"LogLoss : %.4g\" % log_loss(X_test.OutcomeType, predicts))"
   ]
  },
  {
   "cell_type": "code",
   "execution_count": 54,
   "metadata": {
    "collapsed": false
   },
   "outputs": [
    {
     "name": "stderr",
     "output_type": "stream",
     "text": [
      "/usr/local/lib/python3.5/site-packages/xgboost-0.4-py3.5.egg/xgboost/core.py:896: VisibleDeprecationWarning: using a non-integer number instead of an integer will result in an error in the future\n",
      "  preds = preds.reshape(nrow, preds.size / nrow)\n"
     ]
    }
   ],
   "source": [
    "base_xgb_res = base_model.predict_proba(data_test)"
   ]
  },
  {
   "cell_type": "code",
   "execution_count": 58,
   "metadata": {
    "collapsed": false
   },
   "outputs": [
    {
     "ename": "NameError",
     "evalue": "name 'raw_data' is not defined",
     "output_type": "error",
     "traceback": [
      "\u001b[0;31m---------------------------------------------------------------------------\u001b[0m",
      "\u001b[0;31mNameError\u001b[0m                                 Traceback (most recent call last)",
      "\u001b[0;32m<ipython-input-58-d32518fd14e4>\u001b[0m in \u001b[0;36m<module>\u001b[0;34m()\u001b[0m\n\u001b[1;32m      1\u001b[0m \u001b[0mres_data\u001b[0m \u001b[0;34m=\u001b[0m \u001b[0mpandas\u001b[0m\u001b[0;34m.\u001b[0m\u001b[0mDataFrame\u001b[0m\u001b[0;34m(\u001b[0m\u001b[0;34m)\u001b[0m\u001b[0;34m\u001b[0m\u001b[0m\n\u001b[0;32m----> 2\u001b[0;31m \u001b[0mle\u001b[0m\u001b[0;34m.\u001b[0m\u001b[0mfit_transform\u001b[0m\u001b[0;34m(\u001b[0m\u001b[0mraw_data\u001b[0m\u001b[0;34m[\u001b[0m\u001b[0;34m'OutcomeType'\u001b[0m\u001b[0;34m]\u001b[0m\u001b[0;34m)\u001b[0m\u001b[0;34m\u001b[0m\u001b[0m\n\u001b[0m\u001b[1;32m      3\u001b[0m \u001b[0mres_data\u001b[0m\u001b[0;34m[\u001b[0m\u001b[0;34m'ID'\u001b[0m\u001b[0;34m]\u001b[0m \u001b[0;34m=\u001b[0m \u001b[0mdata_to_predict\u001b[0m\u001b[0;34m.\u001b[0m\u001b[0mID\u001b[0m\u001b[0;34m\u001b[0m\u001b[0m\n\u001b[1;32m      4\u001b[0m \u001b[0;32mfor\u001b[0m \u001b[0mi\u001b[0m \u001b[0;32min\u001b[0m \u001b[0mrange\u001b[0m\u001b[0;34m(\u001b[0m\u001b[0;36m0\u001b[0m\u001b[0;34m,\u001b[0m\u001b[0;36m5\u001b[0m\u001b[0;34m)\u001b[0m\u001b[0;34m:\u001b[0m\u001b[0;34m\u001b[0m\u001b[0m\n\u001b[1;32m      5\u001b[0m     \u001b[0mres_data\u001b[0m\u001b[0;34m[\u001b[0m\u001b[0mle\u001b[0m\u001b[0;34m.\u001b[0m\u001b[0mclasses_\u001b[0m\u001b[0;34m[\u001b[0m\u001b[0mi\u001b[0m\u001b[0;34m]\u001b[0m\u001b[0;34m]\u001b[0m \u001b[0;34m=\u001b[0m \u001b[0mbase_xgb_res\u001b[0m\u001b[0;34m[\u001b[0m\u001b[0;34m:\u001b[0m\u001b[0;34m,\u001b[0m\u001b[0mi\u001b[0m\u001b[0;34m]\u001b[0m\u001b[0;34m\u001b[0m\u001b[0m\n",
      "\u001b[0;31mNameError\u001b[0m: name 'raw_data' is not defined"
     ]
    }
   ],
   "source": [
    "res_data = pandas.DataFrame()\n",
    "le.fit_transform(raw_data['OutcomeType'])\n",
    "res_data['ID'] = data_to_predict.ID\n",
    "for i in range(0,5):\n",
    "    res_data[le.classes_[i]] = base_xgb_res[:,i]\n",
    "res_data.to_csv('base_xgboost.csv', index=False)"
   ]
  },
  {
   "cell_type": "code",
   "execution_count": null,
   "metadata": {
    "collapsed": true
   },
   "outputs": [],
   "source": []
  }
 ],
 "metadata": {
  "kernelspec": {
   "display_name": "Python 3",
   "language": "python",
   "name": "python3"
  },
  "language_info": {
   "codemirror_mode": {
    "name": "ipython",
    "version": 3
   },
   "file_extension": ".py",
   "mimetype": "text/x-python",
   "name": "python",
   "nbconvert_exporter": "python",
   "pygments_lexer": "ipython3",
   "version": "3.5.1"
  }
 },
 "nbformat": 4,
 "nbformat_minor": 0
}
