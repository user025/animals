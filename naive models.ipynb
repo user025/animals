{
 "cells": [
  {
   "cell_type": "code",
   "execution_count": 1,
   "metadata": {
    "collapsed": true
   },
   "outputs": [],
   "source": [
    "import pandas\n",
    "import datetime\n",
    "import numpy as np\n",
    "from sklearn.naive_bayes import MultinomialNB\n",
    "from sklearn.preprocessing import MultiLabelBinarizer\n",
    "from sklearn.preprocessing import LabelEncoder\n",
    "from sklearn.cross_validation import KFold\n",
    "from sklearn.metrics import log_loss"
   ]
  },
  {
   "cell_type": "code",
   "execution_count": 2,
   "metadata": {
    "collapsed": false
   },
   "outputs": [],
   "source": [
    "data = pandas.read_csv('train.csv')"
   ]
  },
  {
   "cell_type": "code",
   "execution_count": 3,
   "metadata": {
    "collapsed": false
   },
   "outputs": [],
   "source": [
    "mlb = MultiLabelBinarizer()\n",
    "le = LabelEncoder()"
   ]
  },
  {
   "cell_type": "code",
   "execution_count": 4,
   "metadata": {
    "collapsed": false
   },
   "outputs": [],
   "source": [
    "breed_count = data.Breed.value_counts()\n",
    "color_count = data.Color.value_counts()"
   ]
  },
  {
   "cell_type": "code",
   "execution_count": 13,
   "metadata": {
    "collapsed": true
   },
   "outputs": [],
   "source": [
    "def parse_age(x):\n",
    "    time, resolution = x.split(' ')\n",
    "    time = int(time)\n",
    "    if resolution.startswith('day'):\n",
    "        return int(time)\n",
    "    elif resolution.startswith('week'):\n",
    "        return int(time * 7)\n",
    "    elif resolution.startswith('month'):\n",
    "        return int(time * 30)\n",
    "    elif resolution.startswith('year'):\n",
    "        return int(time * 365)\n",
    "    else:\n",
    "        print(x)"
   ]
  },
  {
   "cell_type": "code",
   "execution_count": 75,
   "metadata": {
    "collapsed": false
   },
   "outputs": [],
   "source": [
    "try:\n",
    "    del train_data\n",
    "except:\n",
    "    pass\n",
    "train_data = pandas.DataFrame()\n",
    "\n",
    "\n",
    "def gen_feature(raw_data, transed_data):\n",
    "    if 'OutcomeType' in raw_data:\n",
    "        transed_data['OutcomeType'] = le.fit_transform(raw_data['OutcomeType'])\n",
    "    transed_data['AnimalType'] = le.fit_transform(raw_data['AnimalType'])\n",
    "    #众数填充\n",
    "    raw_data['SexuponOutcome'].fillna(inplace = True, value = raw_data['SexuponOutcome'].describe().top)\n",
    "    raw_data['AgeuponOutcome'].fillna(inplace = True, value = raw_data['AgeuponOutcome'].describe().top)\n",
    "    date_list = [datetime.datetime.strptime(x, \"%Y-%m-%d %H:%M:%S\") for x in raw_data['DateTime']]\n",
    "    transed_data['month'] = [x.date().month for x in date_list]\n",
    "    transed_data['season'] = [int(x.date().month / 4) for x in date_list]\n",
    "    transed_data['10_day'] = [int(x.date().day / 10) for x in date_list]\n",
    "    transed_data['week'] = [x.date().isoweekday() for x in date_list]\n",
    "    # train_data['Age_days'] = data.AgeuponOutcome.apply(parse_age) \n",
    "    age_cat = mlb.fit_transform([[x] for x in raw_data['AgeuponOutcome']])\n",
    "    for i, val in zip(mlb.classes_, age_cat.T):\n",
    "        transed_data['AgeuponOutcome_' + i] = val\n",
    "    del age_cat\n",
    "    \n",
    "    sex_cat = mlb.fit_transform([[x] for x in raw_data['SexuponOutcome']])\n",
    "    for i, val in zip(mlb.classes_, sex_cat.T):\n",
    "        transed_data['SexuponOutcome_' + i] = val\n",
    "    del sex_cat\n",
    "   \n",
    "    breed_cat = mlb.fit_transform([[x] for x in raw_data['Breed']])\n",
    "    for i, val in zip(mlb.classes_, breed_cat.T):\n",
    "        if breed_count.loc[i] > 30:\n",
    "            transed_data['Breed_' + i] = val\n",
    "    del breed_cat\n",
    "    color_cat = mlb.fit_transform([[x] for x in raw_data['Color']])\n",
    "    for i, val in zip(mlb.classes_, color_cat.T):\n",
    "        if color_count.loc[i] > 30:\n",
    "            transed_data['Color_' + i] = val\n",
    "    del color_cat\n",
    "   \n",
    "    transed_data['is_breed_mix'] = data.Breed.apply(lambda x: int(x.find('Mix') > 0))\n",
    "    transed_data['is_color_mix'] = data.Color.apply(lambda x: int(x.find('/') > 0))\n"
   ]
  },
  {
   "cell_type": "code",
   "execution_count": 104,
   "metadata": {
    "collapsed": true
   },
   "outputs": [],
   "source": [
    "def convert_feature(raw_data, transed_data, referer):\n",
    "    transed_data['AnimalType'] = le.fit_transform(raw_data['AnimalType'])\n",
    "    #众数填充\n",
    "    raw_data['SexuponOutcome'].fillna(inplace = True, value = raw_data['SexuponOutcome'].describe().top)\n",
    "    raw_data['AgeuponOutcome'].fillna(inplace = True, value = raw_data['AgeuponOutcome'].describe().top)\n",
    "    date_list = [datetime.datetime.strptime(x, \"%Y-%m-%d %H:%M:%S\") for x in raw_data['DateTime']]\n",
    "    transed_data['month'] = [x.date().month for x in date_list]\n",
    "    transed_data['season'] = [int(x.date().month / 4) for x in date_list]\n",
    "    transed_data['10_day'] = [int(x.date().day / 10) for x in date_list]\n",
    "    transed_data['week'] = [x.date().isoweekday() for x in date_list]\n",
    "    age_cat = mlb.fit_transform([[x] for x in raw_data['AgeuponOutcome']])\n",
    "    for i, val in zip(mlb.classes_, age_cat.T):\n",
    "        if (i in referer):\n",
    "            transed_data['AgeuponOutcome_' + i] = val\n",
    "    del age_cat\n",
    "    \n",
    "    sex_cat = mlb.fit_transform([[x] for x in raw_data['SexuponOutcome']])\n",
    "    for i, val in zip(mlb.classes_, sex_cat.T):\n",
    "        if (i in referer):\n",
    "            transed_data['SexuponOutcome_' + i] = val\n",
    "    del sex_cat\n",
    "   \n",
    "    breed_cat = mlb.fit_transform([[x] for x in raw_data['Breed']])\n",
    "    for i, val in zip(mlb.classes_, breed_cat.T):\n",
    "        if (i in referer):\n",
    "            transed_data['Breed_' + i] = val\n",
    "    del breed_cat\n",
    "    color_cat = mlb.fit_transform([[x] for x in raw_data['Color']])\n",
    "    for i, val in zip(mlb.classes_, color_cat.T):\n",
    "        if (i in referer):\n",
    "            transed_data['Color_' + i] = val\n",
    "    del color_cat\n",
    "    \n",
    "    num = len(transed_data)\n",
    "    for i in referer:\n",
    "        if i not in transed_data and i != \"OutcomeType\":\n",
    "            transed_data[i] = np.zeros((num, 1)).astype(int)"
   ]
  },
  {
   "cell_type": "code",
   "execution_count": 76,
   "metadata": {
    "collapsed": false
   },
   "outputs": [],
   "source": [
    "gen_feature(data, train_data)"
   ]
  },
  {
   "cell_type": "code",
   "execution_count": 78,
   "metadata": {
    "collapsed": false
   },
   "outputs": [
    {
     "data": {
      "text/html": [
       "<div>\n",
       "<table border=\"1\" class=\"dataframe\">\n",
       "  <thead>\n",
       "    <tr style=\"text-align: right;\">\n",
       "      <th></th>\n",
       "      <th>OutcomeType</th>\n",
       "      <th>AnimalType</th>\n",
       "      <th>month</th>\n",
       "      <th>season</th>\n",
       "      <th>10_day</th>\n",
       "      <th>week</th>\n",
       "      <th>AgeuponOutcome_0 years</th>\n",
       "      <th>AgeuponOutcome_1 day</th>\n",
       "      <th>AgeuponOutcome_1 month</th>\n",
       "      <th>AgeuponOutcome_1 week</th>\n",
       "      <th>...</th>\n",
       "      <th>Color_White/Cream</th>\n",
       "      <th>Color_White/Gray</th>\n",
       "      <th>Color_White/Orange Tabby</th>\n",
       "      <th>Color_White/Red</th>\n",
       "      <th>Color_White/Tan</th>\n",
       "      <th>Color_White/Tricolor</th>\n",
       "      <th>Color_Yellow</th>\n",
       "      <th>Color_Yellow/White</th>\n",
       "      <th>is_breed_mix</th>\n",
       "      <th>is_color_mix</th>\n",
       "    </tr>\n",
       "  </thead>\n",
       "  <tbody>\n",
       "    <tr>\n",
       "      <th>0</th>\n",
       "      <td>3</td>\n",
       "      <td>1</td>\n",
       "      <td>2</td>\n",
       "      <td>0</td>\n",
       "      <td>1</td>\n",
       "      <td>3</td>\n",
       "      <td>0</td>\n",
       "      <td>0</td>\n",
       "      <td>0</td>\n",
       "      <td>0</td>\n",
       "      <td>...</td>\n",
       "      <td>0</td>\n",
       "      <td>0</td>\n",
       "      <td>0</td>\n",
       "      <td>0</td>\n",
       "      <td>0</td>\n",
       "      <td>0</td>\n",
       "      <td>0</td>\n",
       "      <td>0</td>\n",
       "      <td>1</td>\n",
       "      <td>1</td>\n",
       "    </tr>\n",
       "    <tr>\n",
       "      <th>1</th>\n",
       "      <td>2</td>\n",
       "      <td>0</td>\n",
       "      <td>10</td>\n",
       "      <td>2</td>\n",
       "      <td>1</td>\n",
       "      <td>7</td>\n",
       "      <td>0</td>\n",
       "      <td>0</td>\n",
       "      <td>0</td>\n",
       "      <td>0</td>\n",
       "      <td>...</td>\n",
       "      <td>0</td>\n",
       "      <td>0</td>\n",
       "      <td>0</td>\n",
       "      <td>0</td>\n",
       "      <td>0</td>\n",
       "      <td>0</td>\n",
       "      <td>0</td>\n",
       "      <td>0</td>\n",
       "      <td>1</td>\n",
       "      <td>0</td>\n",
       "    </tr>\n",
       "    <tr>\n",
       "      <th>2</th>\n",
       "      <td>0</td>\n",
       "      <td>1</td>\n",
       "      <td>1</td>\n",
       "      <td>0</td>\n",
       "      <td>3</td>\n",
       "      <td>6</td>\n",
       "      <td>0</td>\n",
       "      <td>0</td>\n",
       "      <td>0</td>\n",
       "      <td>0</td>\n",
       "      <td>...</td>\n",
       "      <td>0</td>\n",
       "      <td>0</td>\n",
       "      <td>0</td>\n",
       "      <td>0</td>\n",
       "      <td>0</td>\n",
       "      <td>0</td>\n",
       "      <td>0</td>\n",
       "      <td>0</td>\n",
       "      <td>1</td>\n",
       "      <td>1</td>\n",
       "    </tr>\n",
       "    <tr>\n",
       "      <th>3</th>\n",
       "      <td>4</td>\n",
       "      <td>0</td>\n",
       "      <td>7</td>\n",
       "      <td>1</td>\n",
       "      <td>1</td>\n",
       "      <td>5</td>\n",
       "      <td>0</td>\n",
       "      <td>0</td>\n",
       "      <td>0</td>\n",
       "      <td>0</td>\n",
       "      <td>...</td>\n",
       "      <td>0</td>\n",
       "      <td>0</td>\n",
       "      <td>0</td>\n",
       "      <td>0</td>\n",
       "      <td>0</td>\n",
       "      <td>0</td>\n",
       "      <td>0</td>\n",
       "      <td>0</td>\n",
       "      <td>1</td>\n",
       "      <td>0</td>\n",
       "    </tr>\n",
       "    <tr>\n",
       "      <th>4</th>\n",
       "      <td>4</td>\n",
       "      <td>1</td>\n",
       "      <td>11</td>\n",
       "      <td>2</td>\n",
       "      <td>1</td>\n",
       "      <td>5</td>\n",
       "      <td>0</td>\n",
       "      <td>0</td>\n",
       "      <td>0</td>\n",
       "      <td>0</td>\n",
       "      <td>...</td>\n",
       "      <td>0</td>\n",
       "      <td>0</td>\n",
       "      <td>0</td>\n",
       "      <td>0</td>\n",
       "      <td>0</td>\n",
       "      <td>0</td>\n",
       "      <td>0</td>\n",
       "      <td>0</td>\n",
       "      <td>0</td>\n",
       "      <td>0</td>\n",
       "    </tr>\n",
       "  </tbody>\n",
       "</table>\n",
       "<p>5 rows × 211 columns</p>\n",
       "</div>"
      ],
      "text/plain": [
       "   OutcomeType  AnimalType  month  season  10_day  week  \\\n",
       "0            3           1      2       0       1     3   \n",
       "1            2           0     10       2       1     7   \n",
       "2            0           1      1       0       3     6   \n",
       "3            4           0      7       1       1     5   \n",
       "4            4           1     11       2       1     5   \n",
       "\n",
       "   AgeuponOutcome_0 years  AgeuponOutcome_1 day  AgeuponOutcome_1 month  \\\n",
       "0                       0                     0                       0   \n",
       "1                       0                     0                       0   \n",
       "2                       0                     0                       0   \n",
       "3                       0                     0                       0   \n",
       "4                       0                     0                       0   \n",
       "\n",
       "   AgeuponOutcome_1 week      ...       Color_White/Cream  Color_White/Gray  \\\n",
       "0                      0      ...                       0                 0   \n",
       "1                      0      ...                       0                 0   \n",
       "2                      0      ...                       0                 0   \n",
       "3                      0      ...                       0                 0   \n",
       "4                      0      ...                       0                 0   \n",
       "\n",
       "   Color_White/Orange Tabby  Color_White/Red  Color_White/Tan  \\\n",
       "0                         0                0                0   \n",
       "1                         0                0                0   \n",
       "2                         0                0                0   \n",
       "3                         0                0                0   \n",
       "4                         0                0                0   \n",
       "\n",
       "   Color_White/Tricolor  Color_Yellow  Color_Yellow/White  is_breed_mix  \\\n",
       "0                     0             0                   0             1   \n",
       "1                     0             0                   0             1   \n",
       "2                     0             0                   0             1   \n",
       "3                     0             0                   0             1   \n",
       "4                     0             0                   0             0   \n",
       "\n",
       "   is_color_mix  \n",
       "0             1  \n",
       "1             0  \n",
       "2             1  \n",
       "3             0  \n",
       "4             0  \n",
       "\n",
       "[5 rows x 211 columns]"
      ]
     },
     "execution_count": 78,
     "metadata": {},
     "output_type": "execute_result"
    }
   ],
   "source": [
    "train_data.head()"
   ]
  },
  {
   "cell_type": "code",
   "execution_count": 67,
   "metadata": {
    "collapsed": false
   },
   "outputs": [],
   "source": [
    "mnb = MultinomialNB()"
   ]
  },
  {
   "cell_type": "code",
   "execution_count": 68,
   "metadata": {
    "collapsed": false
   },
   "outputs": [],
   "source": [
    "kf = KFold(len(train_data), 10, shuffle=True)"
   ]
  },
  {
   "cell_type": "code",
   "execution_count": 73,
   "metadata": {
    "collapsed": false
   },
   "outputs": [],
   "source": [
    "data_to_predict = pandas.read_csv('test.csv')"
   ]
  },
  {
   "cell_type": "code",
   "execution_count": 105,
   "metadata": {
    "collapsed": false
   },
   "outputs": [],
   "source": [
    "data_test = pandas.DataFrame()\n",
    "kf = KFold(len(train_data), 10, shuffle=True)\n",
    "convert_feature(data_to_predict, data_test, train_data.columns)\n"
   ]
  },
  {
   "cell_type": "code",
   "execution_count": 106,
   "metadata": {
    "collapsed": false
   },
   "outputs": [],
   "source": [
    "res = []\n",
    "for train_idx, test_idx in kf:\n",
    "    X_train = train_data.iloc[train_idx]\n",
    "    X_test = train_data.iloc[test_idx]\n",
    "    mnb.fit(X_train.iloc[:,1:], X_train.OutcomeType)\n",
    "    res.append(mnb.predict_proba(data_test))\n",
    "    "
   ]
  },
  {
   "cell_type": "code",
   "execution_count": 112,
   "metadata": {
    "collapsed": false
   },
   "outputs": [],
   "source": [
    "res = sum(res) / 10"
   ]
  },
  {
   "cell_type": "code",
   "execution_count": 122,
   "metadata": {
    "collapsed": false
   },
   "outputs": [],
   "source": [
    "#result 1.2\n",
    "res_data = pandas.DataFrame()\n",
    "le.fit_transform(data['OutcomeType'])\n",
    "res_data['ID'] = data_to_predict.ID\n",
    "for i in range(0,5):\n",
    "    res_data[le.classes_[i]] = res[:,i]\n",
    "res_data.to_csv('base_ans.csv', index=False)"
   ]
  },
  {
   "cell_type": "code",
   "execution_count": 123,
   "metadata": {
    "collapsed": false
   },
   "outputs": [
    {
     "data": {
      "text/plain": [
       "\"\\nfrom sklearn.naive_bayes import GaussianNB\\ngnb = BernoulliNB()\\nbi_train_data = train_data.copy()\\ndel bi_train_data['month']\\ndel bi_train_data['season']\\ndel bi_train_data['10_day']\\ndel bi_train_data['week']\\n\\ntmp = mlb.fit_transform([[x] for x in train_data['month']])\\nfor i, val in zip(mlb.classes_, tmp.T):\\n    bi_train_data['month_' + str(i)] = val\\n\\ntmp = mlb.fit_transform([[x] for x in train_data['season']])\\nfor i, val in zip(mlb.classes_, tmp.T):\\n    bi_train_data['season_' + str(i)] = val\\n    \\ntmp = mlb.fit_transform([[x] for x in train_data['10_day']])\\nfor i, val in zip(mlb.classes_, tmp.T):\\n    bi_train_data['10_day_' + str(i)] = val\\n    \\ntmp = mlb.fit_transform([[x] for x in train_data['week']])\\nfor i, val in zip(mlb.classes_, tmp.T):\\n    bi_train_data['week_' + str(i)] = val\\ndel tmp\\n\\nfor train_idx, test_idx in kf:\\n    X_train = bi_train_data.iloc[train_idx]\\n    X_test = bi_train_data.iloc[test_idx]\\n    gnb.fit(X_train.iloc[:,1:], X_train.OutcomeType)\\n    w = gnb.predict_proba(X_test.iloc[:,1:])\\n    print(log_loss(X_test.OutcomeType, w))\\n\""
      ]
     },
     "execution_count": 123,
     "metadata": {},
     "output_type": "execute_result"
    }
   ],
   "source": [
    "\"\"\"\n",
    "from sklearn.naive_bayes import GaussianNB\n",
    "gnb = BernoulliNB()\n",
    "bi_train_data = train_data.copy()\n",
    "del bi_train_data['month']\n",
    "del bi_train_data['season']\n",
    "del bi_train_data['10_day']\n",
    "del bi_train_data['week']\n",
    "\n",
    "tmp = mlb.fit_transform([[x] for x in train_data['month']])\n",
    "for i, val in zip(mlb.classes_, tmp.T):\n",
    "    bi_train_data['month_' + str(i)] = val\n",
    "\n",
    "tmp = mlb.fit_transform([[x] for x in train_data['season']])\n",
    "for i, val in zip(mlb.classes_, tmp.T):\n",
    "    bi_train_data['season_' + str(i)] = val\n",
    "    \n",
    "tmp = mlb.fit_transform([[x] for x in train_data['10_day']])\n",
    "for i, val in zip(mlb.classes_, tmp.T):\n",
    "    bi_train_data['10_day_' + str(i)] = val\n",
    "    \n",
    "tmp = mlb.fit_transform([[x] for x in train_data['week']])\n",
    "for i, val in zip(mlb.classes_, tmp.T):\n",
    "    bi_train_data['week_' + str(i)] = val\n",
    "del tmp\n",
    "\n",
    "for train_idx, test_idx in kf:\n",
    "    X_train = bi_train_data.iloc[train_idx]\n",
    "    X_test = bi_train_data.iloc[test_idx]\n",
    "    gnb.fit(X_train.iloc[:,1:], X_train.OutcomeType)\n",
    "    w = gnb.predict_proba(X_test.iloc[:,1:])\n",
    "    print(log_loss(X_test.OutcomeType, w))\n",
    "\"\"\""
   ]
  },
  {
   "cell_type": "code",
   "execution_count": null,
   "metadata": {
    "collapsed": true
   },
   "outputs": [],
   "source": [
    "import xgboost\n",
    "params = "
   ]
  },
  {
   "cell_type": "code",
   "execution_count": null,
   "metadata": {
    "collapsed": true
   },
   "outputs": [],
   "source": []
  }
 ],
 "metadata": {
  "kernelspec": {
   "display_name": "Python 3",
   "language": "python",
   "name": "python3"
  },
  "language_info": {
   "codemirror_mode": {
    "name": "ipython",
    "version": 3
   },
   "file_extension": ".py",
   "mimetype": "text/x-python",
   "name": "python",
   "nbconvert_exporter": "python",
   "pygments_lexer": "ipython3",
   "version": "3.5.1"
  }
 },
 "nbformat": 4,
 "nbformat_minor": 0
}
