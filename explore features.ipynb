{
 "cells": [
  {
   "cell_type": "code",
   "execution_count": 2,
   "metadata": {
    "collapsed": true
   },
   "outputs": [],
   "source": [
    "import pandas\n",
    "from sklearn.svm import *\n",
    "from sklearn.preprocessing import *"
   ]
  },
  {
   "cell_type": "code",
   "execution_count": 3,
   "metadata": {
    "collapsed": true
   },
   "outputs": [],
   "source": [
    "data = pandas.read_csv('train.csv')"
   ]
  },
  {
   "cell_type": "code",
   "execution_count": 4,
   "metadata": {
    "collapsed": false
   },
   "outputs": [
    {
     "data": {
      "text/html": [
       "<div>\n",
       "<table border=\"1\" class=\"dataframe\">\n",
       "  <thead>\n",
       "    <tr style=\"text-align: right;\">\n",
       "      <th></th>\n",
       "      <th>AnimalID</th>\n",
       "      <th>Name</th>\n",
       "      <th>DateTime</th>\n",
       "      <th>OutcomeType</th>\n",
       "      <th>OutcomeSubtype</th>\n",
       "      <th>AnimalType</th>\n",
       "      <th>SexuponOutcome</th>\n",
       "      <th>AgeuponOutcome</th>\n",
       "      <th>Breed</th>\n",
       "      <th>Color</th>\n",
       "    </tr>\n",
       "  </thead>\n",
       "  <tbody>\n",
       "    <tr>\n",
       "      <th>count</th>\n",
       "      <td>26729</td>\n",
       "      <td>19038</td>\n",
       "      <td>26729</td>\n",
       "      <td>26729</td>\n",
       "      <td>13117</td>\n",
       "      <td>26729</td>\n",
       "      <td>26728</td>\n",
       "      <td>26711</td>\n",
       "      <td>26729</td>\n",
       "      <td>26729</td>\n",
       "    </tr>\n",
       "    <tr>\n",
       "      <th>unique</th>\n",
       "      <td>26729</td>\n",
       "      <td>6374</td>\n",
       "      <td>22918</td>\n",
       "      <td>5</td>\n",
       "      <td>16</td>\n",
       "      <td>2</td>\n",
       "      <td>5</td>\n",
       "      <td>44</td>\n",
       "      <td>1380</td>\n",
       "      <td>366</td>\n",
       "    </tr>\n",
       "    <tr>\n",
       "      <th>top</th>\n",
       "      <td>A667095</td>\n",
       "      <td>Max</td>\n",
       "      <td>2015-08-11 00:00:00</td>\n",
       "      <td>Adoption</td>\n",
       "      <td>Partner</td>\n",
       "      <td>Dog</td>\n",
       "      <td>Neutered Male</td>\n",
       "      <td>1 year</td>\n",
       "      <td>Domestic Shorthair Mix</td>\n",
       "      <td>Black/White</td>\n",
       "    </tr>\n",
       "    <tr>\n",
       "      <th>freq</th>\n",
       "      <td>1</td>\n",
       "      <td>136</td>\n",
       "      <td>19</td>\n",
       "      <td>10769</td>\n",
       "      <td>7816</td>\n",
       "      <td>15595</td>\n",
       "      <td>9779</td>\n",
       "      <td>3969</td>\n",
       "      <td>8810</td>\n",
       "      <td>2824</td>\n",
       "    </tr>\n",
       "  </tbody>\n",
       "</table>\n",
       "</div>"
      ],
      "text/plain": [
       "       AnimalID   Name             DateTime OutcomeType OutcomeSubtype  \\\n",
       "count     26729  19038                26729       26729          13117   \n",
       "unique    26729   6374                22918           5             16   \n",
       "top     A667095    Max  2015-08-11 00:00:00    Adoption        Partner   \n",
       "freq          1    136                   19       10769           7816   \n",
       "\n",
       "       AnimalType SexuponOutcome AgeuponOutcome                   Breed  \\\n",
       "count       26729          26728          26711                   26729   \n",
       "unique          2              5             44                    1380   \n",
       "top           Dog  Neutered Male         1 year  Domestic Shorthair Mix   \n",
       "freq        15595           9779           3969                    8810   \n",
       "\n",
       "              Color  \n",
       "count         26729  \n",
       "unique          366  \n",
       "top     Black/White  \n",
       "freq           2824  "
      ]
     },
     "execution_count": 4,
     "metadata": {},
     "output_type": "execute_result"
    }
   ],
   "source": [
    "data.describe()"
   ]
  },
  {
   "cell_type": "code",
   "execution_count": 5,
   "metadata": {
    "collapsed": true
   },
   "outputs": [],
   "source": [
    "import datetime\n",
    "date_list = [ datetime.datetime.strptime(x, \"%Y-%m-%d %H:%M:%S\") for x in data['DateTime'] ]\n",
    "data['date'] = [x.date().isoformat() for x in date_list]\n",
    "data['year'] = [x.date().year for x in date_list]\n",
    "data['month'] = [x.date().month for x in date_list]\n",
    "\n",
    "data['time'] = [x.time().isoformat() for x in date_list]\n",
    "del date_list"
   ]
  },
  {
   "cell_type": "code",
   "execution_count": 6,
   "metadata": {
    "collapsed": false
   },
   "outputs": [
    {
     "name": "stdout",
     "output_type": "stream",
     "text": [
      "181\n"
     ]
    }
   ],
   "source": [
    "%matplotlib inline\n",
    "#breed 频次 > 10的数据占90%，可以只取这部分one-hot\n",
    "breeds = data.Breed.value_counts()\n",
    "print(breeds[breeds > 10].count())"
   ]
  },
  {
   "cell_type": "code",
   "execution_count": 7,
   "metadata": {
    "collapsed": false
   },
   "outputs": [
    {
     "data": {
      "text/plain": [
       "OutcomeType            \n",
       "Adoption         count             10769\n",
       "                 unique                4\n",
       "                 top       Neutered Male\n",
       "                 freq               5222\n",
       "Died             count               197\n",
       "                 unique                5\n",
       "                 top         Intact Male\n",
       "                 freq                 79\n",
       "Euthanasia       count              1555\n",
       "                 unique                5\n",
       "                 top         Intact Male\n",
       "                 freq                477\n",
       "Return_to_owner  count              4785\n",
       "                 unique                5\n",
       "                 top       Neutered Male\n",
       "                 freq               2247\n",
       "Transfer         count              9422\n",
       "                 unique                5\n",
       "                 top       Intact Female\n",
       "                 freq               2550\n",
       "dtype: object"
      ]
     },
     "execution_count": 7,
     "metadata": {},
     "output_type": "execute_result"
    }
   ],
   "source": [
    "data.groupby('OutcomeType').SexuponOutcome.describe()"
   ]
  },
  {
   "cell_type": "code",
   "execution_count": 8,
   "metadata": {
    "collapsed": false
   },
   "outputs": [
    {
     "data": {
      "text/plain": [
       "OutcomeType      SexuponOutcome\n",
       "Adoption         Neutered Male     5222\n",
       "                 Spayed Female     5186\n",
       "                 Intact Female      203\n",
       "                 Intact Male        158\n",
       "Died             Intact Male         79\n",
       "                 Intact Female       56\n",
       "                 Unknown             25\n",
       "                 Neutered Male       19\n",
       "                 Spayed Female       18\n",
       "Euthanasia       Intact Male        477\n",
       "                 Intact Female      401\n",
       "                 Neutered Male      344\n",
       "                 Spayed Female      232\n",
       "                 Unknown            101\n",
       "Return_to_owner  Neutered Male     2247\n",
       "                 Spayed Female     1748\n",
       "                 Intact Male        477\n",
       "                 Intact Female      301\n",
       "                 Unknown             12\n",
       "Transfer         Intact Female     2550\n",
       "                 Intact Male       2334\n",
       "                 Neutered Male     1947\n",
       "                 Spayed Female     1636\n",
       "                 Unknown            955\n",
       "dtype: int64"
      ]
     },
     "execution_count": 8,
     "metadata": {},
     "output_type": "execute_result"
    }
   ],
   "source": [
    "data.groupby('OutcomeType').SexuponOutcome.value_counts()"
   ]
  },
  {
   "cell_type": "code",
   "execution_count": 9,
   "metadata": {
    "collapsed": false
   },
   "outputs": [
    {
     "data": {
      "text/plain": [
       "Neutered Male    9779\n",
       "Spayed Female    8820\n",
       "Intact Male      3525\n",
       "Intact Female    3511\n",
       "Unknown          1093\n",
       "Name: SexuponOutcome, dtype: int64"
      ]
     },
     "execution_count": 9,
     "metadata": {},
     "output_type": "execute_result"
    }
   ],
   "source": [
    "data.SexuponOutcome.value_counts()"
   ]
  },
  {
   "cell_type": "code",
   "execution_count": 10,
   "metadata": {
    "collapsed": false
   },
   "outputs": [
    {
     "data": {
      "text/plain": [
       "OutcomeType            \n",
       "Adoption         count        10769\n",
       "                 unique          28\n",
       "                 top       2 months\n",
       "                 freq          2636\n",
       "Died             count          197\n",
       "                 unique          31\n",
       "                 top        1 month\n",
       "                 freq            48\n",
       "Euthanasia       count         1553\n",
       "                 unique          39\n",
       "                 top        2 years\n",
       "                 freq           275\n",
       "Return_to_owner  count         4786\n",
       "                 unique          35\n",
       "                 top        2 years\n",
       "                 freq           917\n",
       "Transfer         count         9406\n",
       "                 unique          41\n",
       "                 top         1 year\n",
       "                 freq          1417\n",
       "dtype: object"
      ]
     },
     "execution_count": 10,
     "metadata": {},
     "output_type": "execute_result"
    }
   ],
   "source": [
    "data.groupby('OutcomeType').AgeuponOutcome.describe()"
   ]
  },
  {
   "cell_type": "code",
   "execution_count": 11,
   "metadata": {
    "collapsed": false
   },
   "outputs": [
    {
     "data": {
      "text/plain": [
       "OutcomeType            \n",
       "Adoption         count        10769\n",
       "                 unique          28\n",
       "                 top       2 months\n",
       "                 freq          2636\n",
       "Died             count          197\n",
       "                 unique          31\n",
       "                 top        1 month\n",
       "                 freq            48\n",
       "Euthanasia       count         1553\n",
       "                 unique          39\n",
       "                 top        2 years\n",
       "                 freq           275\n",
       "Return_to_owner  count         4786\n",
       "                 unique          35\n",
       "                 top        2 years\n",
       "                 freq           917\n",
       "Transfer         count         9406\n",
       "                 unique          41\n",
       "                 top         1 year\n",
       "                 freq          1417\n",
       "dtype: object"
      ]
     },
     "execution_count": 11,
     "metadata": {},
     "output_type": "execute_result"
    }
   ],
   "source": [
    "data.groupby('OutcomeType').AgeuponOutcome.describe()"
   ]
  },
  {
   "cell_type": "code",
   "execution_count": 12,
   "metadata": {
    "collapsed": false
   },
   "outputs": [
    {
     "data": {
      "text/plain": [
       "<matplotlib.axes._subplots.AxesSubplot at 0x10aa15be0>"
      ]
     },
     "execution_count": 12,
     "metadata": {},
     "output_type": "execute_result"
    },
    {
     "data": {
      "image/png": "[encoded data removed]",
      "text/plain": [
       "<matplotlib.figure.Figure at 0x10a89d518>"
      ]
     },
     "metadata": {},
     "output_type": "display_data"
    }
   ],
   "source": [
    "data.AgeuponOutcome.value_counts().plot()"
   ]
  },
  {
   "cell_type": "code",
   "execution_count": 13,
   "metadata": {
    "collapsed": false
   },
   "outputs": [
    {
     "data": {
      "text/plain": [
       "<matplotlib.axes._subplots.AxesSubplot at 0x10aa44eb8>"
      ]
     },
     "execution_count": 13,
     "metadata": {},
     "output_type": "execute_result"
    },
    {
     "data": {
      "image/png": "[encoded data removed]",
      "text/plain": [
       "<matplotlib.figure.Figure at 0x10ae0e240>"
      ]
     },
     "metadata": {},
     "output_type": "display_data"
    }
   ],
   "source": [
    "data.Breed.value_counts().head(200).plot()"
   ]
  },
  {
   "cell_type": "code",
   "execution_count": 14,
   "metadata": {
    "collapsed": false
   },
   "outputs": [
    {
     "data": {
      "text/plain": [
       "OutcomeType      month\n",
       "Adoption         7        1151\n",
       "                 8         955\n",
       "                 6         830\n",
       "                 12        823\n",
       "                 9         780\n",
       "                 10        742\n",
       "                 11        739\n",
       "                 5         686\n",
       "                 1         653\n",
       "                 3         571\n",
       "                 2         548\n",
       "                 4         500\n",
       "Died             7          29\n",
       "                 6          27\n",
       "                 5          18\n",
       "                 8          17\n",
       "                 10         15\n",
       "                 11         14\n",
       "                 9          12\n",
       "                 3          11\n",
       "                 12          9\n",
       "                 1           8\n",
       "                 4           7\n",
       "                 2           6\n",
       "Euthanasia       6         161\n",
       "                 7         145\n",
       "                 5         130\n",
       "                 8         111\n",
       "                 3         108\n",
       "                 9         106\n",
       "                 4         101\n",
       "                 10         98\n",
       "                 11         97\n",
       "                 1          96\n",
       "                 2          92\n",
       "                 12         89\n",
       "Return_to_owner  11        387\n",
       "                 12        382\n",
       "                 4         379\n",
       "                 5         367\n",
       "                 3         336\n",
       "                 6         332\n",
       "                 10        325\n",
       "                 1         322\n",
       "                 7         317\n",
       "                 9         310\n",
       "                 8         298\n",
       "                 2         292\n",
       "Transfer         6         969\n",
       "                 5         893\n",
       "                 7         864\n",
       "                 9         796\n",
       "                 8         791\n",
       "                 10        727\n",
       "                 4         702\n",
       "                 11        628\n",
       "                 3         472\n",
       "                 12        463\n",
       "                 1         432\n",
       "                 2         391\n",
       "dtype: int64"
      ]
     },
     "execution_count": 14,
     "metadata": {},
     "output_type": "execute_result"
    }
   ],
   "source": [
    "data[(data.year == 2014) | (data.year == 2015)].groupby('OutcomeType').month.value_counts()"
   ]
  },
  {
   "cell_type": "code",
   "execution_count": 23,
   "metadata": {
    "collapsed": false
   },
   "outputs": [
    {
     "name": "stdout",
     "output_type": "stream",
     "text": [
      "366\n",
      "109\n"
     ]
    }
   ],
   "source": [
    "colors = data.Color.value_counts()\n",
    "print(colors.count())\n",
    "print(colors[colors>15].count())"
   ]
  },
  {
   "cell_type": "code",
   "execution_count": null,
   "metadata": {
    "collapsed": true
   },
   "outputs": [],
   "source": []
  },
  {
   "cell_type": "code",
   "execution_count": null,
   "metadata": {
    "collapsed": true
   },
   "outputs": [],
   "source": []
  }
 ],
 "metadata": {
  "kernelspec": {
   "display_name": "Python 3",
   "language": "python",
   "name": "python3"
  },
  "language_info": {
   "codemirror_mode": {
    "name": "ipython",
    "version": 3
   },
   "file_extension": ".py",
   "mimetype": "text/x-python",
   "name": "python",
   "nbconvert_exporter": "python",
   "pygments_lexer": "ipython3",
   "version": "3.5.1"
  }
 },
 "nbformat": 4,
 "nbformat_minor": 0
}
